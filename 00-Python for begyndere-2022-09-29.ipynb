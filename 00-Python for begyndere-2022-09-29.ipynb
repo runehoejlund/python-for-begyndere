{
 "cells": [
  {
   "cell_type": "markdown",
   "id": "9e3b6b45",
   "metadata": {},
   "source": [
    "# Python for begyndere"
   ]
  },
  {
   "cell_type": "markdown",
   "id": "3f52e10c",
   "metadata": {},
   "source": [
    "## Tastaturgenveje\n",
    "### Genveje i Jupyter Notebook\n",
    "| Kommando                            | Genvej      |\n",
    "|:-----------------------------------:|:-------------:|\n",
    "| Kør celle                           | shift + enter |\n",
    "| Kør celle og indsæt ny under        | alt (option) + enter   |\n",
    "| Ændr celle til tekst                | esc + M       |\n",
    "| Ændr celle til kode                 | esc + Y       |\n",
    "| Fjern celle                         | esc + 2 x D   |\n",
    "\n",
    "### Indtasting af specielle tegn\n",
    "| Tegn | Mac dansk tastatur                        | Windows dansk tastatur               | US tastatur                    |\n",
    "|:----------:|:-----------------------------------:|:------------------------------:|:------------------------------:|\n",
    "| { }        | alt + shift + 8 og alt + shift + 9  | AltGR + 7 og Altgr + 0         | Shift + \\[ \\] (right to P key) |\n",
    "| \\[ \\]      | alt + 8 og alt + 9                  | AltGR + 8 og Altgr + 9         | \\[ \\] (right to P key)         |\n",
    "| \\          | alt + shift + 7                     | ctrl + alt + < eller AltGr + 9 | \\ (left to enter)              |\n",
    "| _          | shift + -                           | shift + -                      | shift + -                      |"
   ]
  },
  {
   "cell_type": "markdown",
   "id": "c80d98d0",
   "metadata": {},
   "source": [
    "Tekst indskrives i markdown (læs mere her: https://github.com/adam-p/markdown-here/wiki/Markdown-Cheatsheet)."
   ]
  },
  {
   "cell_type": "markdown",
   "id": "8e69843b",
   "metadata": {},
   "source": [
    "### Interaktive grafer"
   ]
  },
  {
   "cell_type": "markdown",
   "id": "49f082eb",
   "metadata": {},
   "source": [
    "Jupyter viser grafer og resultatet af beregninger direkte i output-feltet:"
   ]
  },
  {
   "cell_type": "code",
   "execution_count": 3,
   "id": "8374d02a",
   "metadata": {},
   "outputs": [
    {
     "data": {
      "image/png": "[encoded data removed]",
      "text/plain": [
       "<Figure size 432x288 with 1 Axes>"
      ]
     },
     "metadata": {
      "needs_background": "light"
     },
     "output_type": "display_data"
    }
   ],
   "source": [
    "import numpy as np\n",
    "import matplotlib.pyplot as plt\n",
    "\n",
    "x = np.arange(-np.pi,np.pi,0.1)\n",
    "y = np.sin(x)\n",
    "\n",
    "plt.plot(x,y)\n",
    "plt.show()"
   ]
  },
  {
   "cell_type": "markdown",
   "id": "66d9a012",
   "metadata": {},
   "source": [
    "# 3. Kommandoer\n",
    "## Basale regnestykker"
   ]
  },
  {
   "cell_type": "markdown",
   "id": "13e188c2",
   "metadata": {},
   "source": [
    "Plus, minus, dividere og gange udføres med normale tegn, som du kender det fra fx Maple eller Matlab."
   ]
  },
  {
   "cell_type": "code",
   "execution_count": 4,
   "id": "d72bd14f",
   "metadata": {},
   "outputs": [
    {
     "data": {
      "text/plain": [
       "6"
      ]
     },
     "execution_count": 4,
     "metadata": {},
     "output_type": "execute_result"
    }
   ],
   "source": [
    "3+4-1"
   ]
  },
  {
   "cell_type": "code",
   "execution_count": 5,
   "id": "19ec4dac",
   "metadata": {},
   "outputs": [
    {
     "data": {
      "text/plain": [
       "2.5"
      ]
     },
     "execution_count": 5,
     "metadata": {},
     "output_type": "execute_result"
    }
   ],
   "source": [
    "5/2"
   ]
  },
  {
   "cell_type": "code",
   "execution_count": 6,
   "id": "296f3860",
   "metadata": {},
   "outputs": [
    {
     "data": {
      "text/plain": [
       "12"
      ]
     },
     "execution_count": 6,
     "metadata": {},
     "output_type": "execute_result"
    }
   ],
   "source": [
    "3*4"
   ]
  },
  {
   "cell_type": "markdown",
   "id": "4361f725",
   "metadata": {},
   "source": [
    "Potenser klares med en dobbelt-asteriks `**`. Her fx $5^2$"
   ]
  },
  {
   "cell_type": "code",
   "execution_count": 7,
   "id": "4ec346ec",
   "metadata": {},
   "outputs": [
    {
     "data": {
      "text/plain": [
       "25"
      ]
     },
     "execution_count": 7,
     "metadata": {},
     "output_type": "execute_result"
    }
   ],
   "source": [
    "5**2"
   ]
  },
  {
   "cell_type": "markdown",
   "id": "0cfc9bc5",
   "metadata": {},
   "source": [
    "Python har indbyggede kommandoer. Fx til at afrunde og bestemme absolut værdi."
   ]
  },
  {
   "cell_type": "code",
   "execution_count": 8,
   "id": "82e7dc82",
   "metadata": {},
   "outputs": [
    {
     "data": {
      "text/plain": [
       "3"
      ]
     },
     "execution_count": 8,
     "metadata": {},
     "output_type": "execute_result"
    }
   ],
   "source": [
    "round(3.4)"
   ]
  },
  {
   "cell_type": "code",
   "execution_count": 9,
   "id": "81609bbd",
   "metadata": {
    "scrolled": true
   },
   "outputs": [
    {
     "data": {
      "text/plain": [
       "3"
      ]
     },
     "execution_count": 9,
     "metadata": {},
     "output_type": "execute_result"
    }
   ],
   "source": [
    "abs(-3)"
   ]
  },
  {
   "cell_type": "markdown",
   "id": "e0565763",
   "metadata": {},
   "source": [
    "## Print statements"
   ]
  },
  {
   "cell_type": "markdown",
   "id": "89bb7604",
   "metadata": {},
   "source": [
    "Som udgangspunkt vises kun den sidste linje i en interaktiv Python Notebook som denne."
   ]
  },
  {
   "cell_type": "code",
   "execution_count": 10,
   "id": "15bbfdfb",
   "metadata": {},
   "outputs": [
    {
     "data": {
      "text/plain": [
       "2.5"
      ]
     },
     "execution_count": 10,
     "metadata": {},
     "output_type": "execute_result"
    }
   ],
   "source": [
    "3+4-1\n",
    "5/2"
   ]
  },
  {
   "cell_type": "markdown",
   "id": "ee0c09d6",
   "metadata": {},
   "source": [
    "Ønsker man at se mellemregninger kan man altid skrive `print` efterfulgt af paranteser rundt om ens udtryk."
   ]
  },
  {
   "cell_type": "code",
   "execution_count": 11,
   "id": "b94aa3c9",
   "metadata": {},
   "outputs": [
    {
     "name": "stdout",
     "output_type": "stream",
     "text": [
      "6\n"
     ]
    },
    {
     "data": {
      "text/plain": [
       "2.5"
      ]
     },
     "execution_count": 11,
     "metadata": {},
     "output_type": "execute_result"
    }
   ],
   "source": [
    "print(3+4-1)\n",
    "5/2"
   ]
  },
  {
   "cell_type": "markdown",
   "id": "db1bff5c",
   "metadata": {},
   "source": [
    "Man kan også indsætte tekst og variable i paranteserne for at printe det."
   ]
  },
  {
   "cell_type": "code",
   "execution_count": 12,
   "id": "c3101c76",
   "metadata": {},
   "outputs": [
    {
     "name": "stdout",
     "output_type": "stream",
     "text": [
      "Hello World\n"
     ]
    }
   ],
   "source": [
    "print(\"Hello World\")"
   ]
  },
  {
   "cell_type": "code",
   "execution_count": 13,
   "id": "53f0718d",
   "metadata": {},
   "outputs": [
    {
     "name": "stdout",
     "output_type": "stream",
     "text": [
      "Hello Rune\n"
     ]
    }
   ],
   "source": [
    "name = \"Rune\"\n",
    "print(\"Hello \" + name)"
   ]
  },
  {
   "cell_type": "markdown",
   "id": "9bd4b220",
   "metadata": {},
   "source": [
    "# 4. Variabler og kommentarer"
   ]
  },
  {
   "cell_type": "markdown",
   "id": "a1c6a9b2",
   "metadata": {},
   "source": [
    "Brug lighedstegn for at definere en ny variabel. Fx som her, hvor vi vil holde styr på medlemmerne i en forening."
   ]
  },
  {
   "cell_type": "code",
   "execution_count": 14,
   "id": "1ee70a4b",
   "metadata": {},
   "outputs": [
    {
     "name": "stdout",
     "output_type": "stream",
     "text": [
      "14\n"
     ]
    }
   ],
   "source": [
    "member_count = 14\n",
    "print(member_count)"
   ]
  },
  {
   "cell_type": "markdown",
   "id": "6e0ac1be",
   "metadata": {},
   "source": [
    "Linjer der starter med `#` er kommentarer, som ikke bliver eksekveret. De forklarer og giver kontekst til koden."
   ]
  },
  {
   "cell_type": "code",
   "execution_count": 15,
   "id": "5b9605ce",
   "metadata": {},
   "outputs": [
    {
     "name": "stdout",
     "output_type": "stream",
     "text": [
      "560\n"
     ]
    }
   ],
   "source": [
    "# The yearly fee collected at the General Assembly.\n",
    "member_fee = 40\n",
    "income = member_fee*member_count\n",
    "print(income)"
   ]
  },
  {
   "cell_type": "markdown",
   "id": "f6e74f30",
   "metadata": {},
   "source": [
    "Man kan også lave kommentarer på flere linjer:"
   ]
  },
  {
   "cell_type": "code",
   "execution_count": 16,
   "id": "654952a8",
   "metadata": {},
   "outputs": [
    {
     "data": {
      "text/plain": [
       "'\\nThis is the management system for the new awesome\\n\"Students who love Python\" student assocation.\\n'"
      ]
     },
     "execution_count": 16,
     "metadata": {},
     "output_type": "execute_result"
    }
   ],
   "source": [
    "'''\n",
    "This is the management system for the new awesome\n",
    "\"Students who love Python\" student assocation.\n",
    "'''"
   ]
  },
  {
   "cell_type": "markdown",
   "id": "d506a1eb",
   "metadata": {},
   "source": [
    "#### Skriv tilpas (ikke for mange) kommentarer:\n",
    "- Ingen kommentarer er foretrækket frem for forkerte eller outdatede kommentarer\n",
    "- kommentarer bør ikke forklare hvad man indlysende kan læse direkte fra koden."
   ]
  },
  {
   "cell_type": "code",
   "execution_count": 17,
   "id": "5052cf8b",
   "metadata": {},
   "outputs": [
    {
     "data": {
      "text/plain": [
       "15"
      ]
     },
     "execution_count": 17,
     "metadata": {},
     "output_type": "execute_result"
    }
   ],
   "source": [
    "member_count += 1\n",
    "# member_count = member_count + 1\n",
    "member_count"
   ]
  },
  {
   "cell_type": "markdown",
   "id": "67177eb1",
   "metadata": {},
   "source": [
    "# 5. Datatyper: Tal og tekst"
   ]
  },
  {
   "cell_type": "markdown",
   "id": "303a9620",
   "metadata": {},
   "source": [
    "**Tal**"
   ]
  },
  {
   "cell_type": "markdown",
   "id": "9b271cea",
   "metadata": {},
   "source": [
    "**`int`: Integer (heltal)**"
   ]
  },
  {
   "cell_type": "code",
   "execution_count": 18,
   "id": "c8a63e51",
   "metadata": {},
   "outputs": [],
   "source": [
    "member_count = 14\n",
    "member_fee = 40"
   ]
  },
  {
   "cell_type": "code",
   "execution_count": 19,
   "id": "ccbee5a8",
   "metadata": {},
   "outputs": [
    {
     "data": {
      "text/plain": [
       "0"
      ]
     },
     "execution_count": 19,
     "metadata": {},
     "output_type": "execute_result"
    }
   ],
   "source": [
    "x = 2\n",
    "y = -2\n",
    "x+y"
   ]
  },
  {
   "cell_type": "markdown",
   "id": "93b046a0",
   "metadata": {},
   "source": [
    "**`float`: Floating point number (decimaltal)**"
   ]
  },
  {
   "cell_type": "code",
   "execution_count": 20,
   "id": "791e9165",
   "metadata": {},
   "outputs": [],
   "source": [
    "pizza_radius = 6.62"
   ]
  },
  {
   "cell_type": "markdown",
   "id": "2b92d674",
   "metadata": {},
   "source": [
    "Eksempel: Hvad bør kontingentet være for at dække årlige bankudgifter på 699 kr.?"
   ]
  },
  {
   "cell_type": "code",
   "execution_count": 21,
   "id": "e2eb0033",
   "metadata": {},
   "outputs": [
    {
     "data": {
      "text/plain": [
       "49.92857142857143"
      ]
     },
     "execution_count": 21,
     "metadata": {},
     "output_type": "execute_result"
    }
   ],
   "source": [
    "min_fee = 699/member_count\n",
    "min_fee"
   ]
  },
  {
   "cell_type": "markdown",
   "id": "b6096b3f",
   "metadata": {},
   "source": [
    "**`complex`: Complex float (komplekse tal)** "
   ]
  },
  {
   "cell_type": "code",
   "execution_count": 22,
   "id": "ecb241ca",
   "metadata": {},
   "outputs": [
    {
     "name": "stdout",
     "output_type": "stream",
     "text": [
      "(2+3j)\n"
     ]
    }
   ],
   "source": [
    "z = 2 + 3j\n",
    "print(z)"
   ]
  },
  {
   "cell_type": "markdown",
   "id": "2e1cbfa3",
   "metadata": {},
   "source": [
    "**Tekst**"
   ]
  },
  {
   "cell_type": "markdown",
   "id": "798093a6",
   "metadata": {},
   "source": [
    "**`string`: String (tekst-streng)**"
   ]
  },
  {
   "cell_type": "code",
   "execution_count": 23,
   "id": "36910083",
   "metadata": {},
   "outputs": [
    {
     "name": "stdout",
     "output_type": "stream",
     "text": [
      "Hello Rune and welcome to the association!\n"
     ]
    }
   ],
   "source": [
    "name = 'Rune'\n",
    "print('Hello ' + name + ' and welcome to the association!')"
   ]
  },
  {
   "cell_type": "code",
   "execution_count": 24,
   "id": "dc8319d6",
   "metadata": {},
   "outputs": [
    {
     "name": "stdout",
     "output_type": "stream",
     "text": [
      "We need your support of 50 DKK to cover our expenses\n"
     ]
    }
   ],
   "source": [
    "print('We need your support of ' + str(round(min_fee)) + ' DKK to cover our expenses')"
   ]
  },
  {
   "cell_type": "markdown",
   "id": "de4b62b2",
   "metadata": {},
   "source": [
    "# 6. Datatyper: Lister"
   ]
  },
  {
   "cell_type": "markdown",
   "id": "b27d4ee4",
   "metadata": {},
   "source": [
    "Lister skrives med hårde klammer `[]` og kan både indeholde tekst og tal."
   ]
  },
  {
   "cell_type": "code",
   "execution_count": 25,
   "id": "7bcfe55a",
   "metadata": {},
   "outputs": [],
   "source": [
    "members = [\"Emma\", \"Laura\", \"Magnus\", \"Rune\"]"
   ]
  },
  {
   "cell_type": "markdown",
   "id": "48f9294f",
   "metadata": {},
   "source": [
    "Lister i Python er \"0-indekserede\", så 1. element har indeks 0 (dvs. 0'te plads i listen):"
   ]
  },
  {
   "cell_type": "code",
   "execution_count": 26,
   "id": "6fd95003",
   "metadata": {},
   "outputs": [
    {
     "data": {
      "text/plain": [
       "'Emma'"
      ]
     },
     "execution_count": 26,
     "metadata": {},
     "output_type": "execute_result"
    }
   ],
   "source": [
    "members[0]"
   ]
  },
  {
   "cell_type": "code",
   "execution_count": 27,
   "id": "a725cfe6",
   "metadata": {},
   "outputs": [
    {
     "data": {
      "text/plain": [
       "'Magnus'"
      ]
     },
     "execution_count": 27,
     "metadata": {},
     "output_type": "execute_result"
    }
   ],
   "source": [
    "members[2]"
   ]
  },
  {
   "cell_type": "markdown",
   "id": "bc83175d",
   "metadata": {},
   "source": [
    "Udtræk 2. og 3. element (med indeks i det halvåbne interval $[1,3[$)"
   ]
  },
  {
   "cell_type": "code",
   "execution_count": 28,
   "id": "6002f4ec",
   "metadata": {},
   "outputs": [
    {
     "data": {
      "text/plain": [
       "['Laura', 'Magnus']"
      ]
     },
     "execution_count": 28,
     "metadata": {},
     "output_type": "execute_result"
    }
   ],
   "source": [
    "members[1:3]"
   ]
  },
  {
   "cell_type": "markdown",
   "id": "7297a68f",
   "metadata": {},
   "source": [
    "Udtræk sidste element i listen:"
   ]
  },
  {
   "cell_type": "code",
   "execution_count": 29,
   "id": "3a5836f6",
   "metadata": {},
   "outputs": [
    {
     "data": {
      "text/plain": [
       "'Rune'"
      ]
     },
     "execution_count": 29,
     "metadata": {},
     "output_type": "execute_result"
    }
   ],
   "source": [
    "members[-1]"
   ]
  },
  {
   "cell_type": "markdown",
   "id": "8357b8c8",
   "metadata": {},
   "source": [
    "Læg lister sammen og tæl antallet af elementer i listen."
   ]
  },
  {
   "cell_type": "code",
   "execution_count": 30,
   "id": "03fa7ae5",
   "metadata": {},
   "outputs": [
    {
     "data": {
      "text/plain": [
       "['Emma', 'Laura', 'Magnus', 'Rune', 'Luna', 'Lukas']"
      ]
     },
     "execution_count": 30,
     "metadata": {},
     "output_type": "execute_result"
    }
   ],
   "source": [
    "new_members = [\"Luna\", \"Lukas\"]\n",
    "members + new_members"
   ]
  },
  {
   "cell_type": "code",
   "execution_count": 31,
   "id": "56e22a47",
   "metadata": {},
   "outputs": [
    {
     "data": {
      "text/plain": [
       "['Emma', 'Laura', 'Magnus', 'Rune']"
      ]
     },
     "execution_count": 31,
     "metadata": {},
     "output_type": "execute_result"
    }
   ],
   "source": [
    "members # the list stays unchanged"
   ]
  },
  {
   "cell_type": "code",
   "execution_count": 32,
   "id": "111ac463",
   "metadata": {},
   "outputs": [
    {
     "data": {
      "text/plain": [
       "4"
      ]
     },
     "execution_count": 32,
     "metadata": {},
     "output_type": "execute_result"
    }
   ],
   "source": [
    "len(members)"
   ]
  },
  {
   "cell_type": "code",
   "execution_count": 33,
   "id": "d938b5df",
   "metadata": {},
   "outputs": [],
   "source": [
    "member_fees = [0, 12.5, 34, 199.99]"
   ]
  },
  {
   "cell_type": "markdown",
   "id": "4af0b865",
   "metadata": {},
   "source": [
    "**OBS:** Ganger du et tal med din liste, bliver listen blot kopieret."
   ]
  },
  {
   "cell_type": "code",
   "execution_count": 34,
   "id": "e5e483e0",
   "metadata": {
    "scrolled": false
   },
   "outputs": [
    {
     "data": {
      "text/plain": [
       "[0, 12.5, 34, 199.99, 0, 12.5, 34, 199.99]"
      ]
     },
     "execution_count": 34,
     "metadata": {},
     "output_type": "execute_result"
    }
   ],
   "source": [
    "member_fees*2"
   ]
  },
  {
   "cell_type": "markdown",
   "id": "95c76a46",
   "metadata": {},
   "source": [
    "Det intuitive havde nok været, at hvert element i listen blev ganget med tallet. For at få denne funktionalitet, skal man arbejde med NumPy Arrays frem for lister:"
   ]
  },
  {
   "cell_type": "markdown",
   "id": "f93cc3a9",
   "metadata": {},
   "source": [
    "# 7. Datatyper: NumPy Arrays"
   ]
  },
  {
   "cell_type": "markdown",
   "id": "46f86e09",
   "metadata": {},
   "source": [
    "NumPy er et bibliotek som bl.a. muliggør regning med vektorer og matricer, som du måske kender det fra Matlab. Det er essentielt til databehandling i Python."
   ]
  },
  {
   "cell_type": "code",
   "execution_count": 35,
   "id": "843e77f2",
   "metadata": {},
   "outputs": [],
   "source": [
    "member_fees = [0, 12.5, 34, 199.99]"
   ]
  },
  {
   "cell_type": "markdown",
   "id": "5ed2c2e8",
   "metadata": {},
   "source": [
    "En NumPy Array er en datatype, der opfører sig som en vektor eller matrix. Du laver en ny array med `np.array()`-kommandoen:"
   ]
  },
  {
   "cell_type": "code",
   "execution_count": 36,
   "id": "f9d2952c",
   "metadata": {},
   "outputs": [
    {
     "data": {
      "text/plain": [
       "array([  0.  ,  12.5 ,  34.  , 199.99])"
      ]
     },
     "execution_count": 36,
     "metadata": {},
     "output_type": "execute_result"
    }
   ],
   "source": [
    "import numpy as np\n",
    "\n",
    "x = np.array(member_fees)\n",
    "x"
   ]
  },
  {
   "cell_type": "markdown",
   "id": "caf5985a",
   "metadata": {},
   "source": [
    "Hvis vi ganger vores array med 2, fungerer det som at gange en skalar på en vektor:"
   ]
  },
  {
   "cell_type": "code",
   "execution_count": 37,
   "id": "7684bce0",
   "metadata": {},
   "outputs": [
    {
     "data": {
      "text/plain": [
       "array([  0.  ,  25.  ,  68.  , 399.98])"
      ]
     },
     "execution_count": 37,
     "metadata": {},
     "output_type": "execute_result"
    }
   ],
   "source": [
    "x*2"
   ]
  },
  {
   "cell_type": "markdown",
   "id": "2d9e2496",
   "metadata": {},
   "source": [
    "NumPy har indbyggede kommandoer til at tilgå matematiske konstanter og elementære funktioner:"
   ]
  },
  {
   "cell_type": "code",
   "execution_count": 38,
   "id": "0e838cd4",
   "metadata": {},
   "outputs": [
    {
     "data": {
      "text/plain": [
       "492.98"
      ]
     },
     "execution_count": 38,
     "metadata": {},
     "output_type": "execute_result"
    }
   ],
   "source": [
    "sum(x*2)"
   ]
  },
  {
   "cell_type": "code",
   "execution_count": 39,
   "id": "3f7a5a2f",
   "metadata": {},
   "outputs": [],
   "source": [
    "pizza_radius = 6.62"
   ]
  },
  {
   "cell_type": "code",
   "execution_count": 40,
   "id": "940a54e5",
   "metadata": {},
   "outputs": [
    {
     "data": {
      "text/plain": [
       "137.67841308798054"
      ]
     },
     "execution_count": 40,
     "metadata": {},
     "output_type": "execute_result"
    }
   ],
   "source": [
    "np.pi*pizza_radius**2"
   ]
  },
  {
   "cell_type": "markdown",
   "id": "aae3e6ff",
   "metadata": {},
   "source": [
    "Du kan også lave numerisk lineær algebra med NumPy"
   ]
  },
  {
   "cell_type": "code",
   "execution_count": 41,
   "id": "e3ff2a80",
   "metadata": {},
   "outputs": [
    {
     "data": {
      "text/plain": [
       "array([[1, 2],\n",
       "       [3, 4]])"
      ]
     },
     "execution_count": 41,
     "metadata": {},
     "output_type": "execute_result"
    }
   ],
   "source": [
    "y = np.array([[1, 2],\n",
    "              [3, 4]])\n",
    "y"
   ]
  },
  {
   "cell_type": "code",
   "execution_count": 42,
   "id": "939e9e01",
   "metadata": {},
   "outputs": [
    {
     "data": {
      "text/plain": [
       "array([[0, 1],\n",
       "       [2, 3]])"
      ]
     },
     "execution_count": 42,
     "metadata": {},
     "output_type": "execute_result"
    }
   ],
   "source": [
    "z = np.arange(4).reshape(2,2)\n",
    "z"
   ]
  },
  {
   "cell_type": "code",
   "execution_count": 43,
   "id": "243b0c21",
   "metadata": {},
   "outputs": [
    {
     "data": {
      "text/plain": [
       "array([[ 4,  7],\n",
       "       [ 8, 15]])"
      ]
     },
     "execution_count": 43,
     "metadata": {},
     "output_type": "execute_result"
    }
   ],
   "source": [
    "np.dot(y,z)"
   ]
  },
  {
   "cell_type": "markdown",
   "id": "bf1dca7b",
   "metadata": {},
   "source": [
    "# 8. Booleans og betinget kode"
   ]
  },
  {
   "cell_type": "markdown",
   "id": "e52b2892",
   "metadata": {},
   "source": [
    "En `boolean` er en værdi, som enten er sand eller falsk. Fx er det **sandt** at 3 er mindre end 4:"
   ]
  },
  {
   "cell_type": "code",
   "execution_count": 44,
   "id": "5783cb6f",
   "metadata": {},
   "outputs": [
    {
     "data": {
      "text/plain": [
       "True"
      ]
     },
     "execution_count": 44,
     "metadata": {},
     "output_type": "execute_result"
    }
   ],
   "source": [
    "3 < 4"
   ]
  },
  {
   "cell_type": "markdown",
   "id": "6f33cba4",
   "metadata": {},
   "source": [
    "`booleans` bruges i betinget kode (`if statements`) til at styre flowet i ens program. Man skal give en betingelse som evaluerer til en sandt/falsk værdi og de kommandoer man ønsker opfyldt. "
   ]
  },
  {
   "cell_type": "markdown",
   "id": "cb1e7eca",
   "metadata": {},
   "source": [
    "`if`-statements kan fx bruges til at beregne _cases_ i matematik. Fx til at bestemme $f(-2)$ for følgende funktion:\n",
    "$$\n",
    "f(x) = \n",
    "\\begin{cases}\n",
    "  x^3 + 2, \\quad x > 0 \\\\\n",
    "  \\frac{1}{x}, \\quad \\text{otherwise}\n",
    "\\end{cases}\n",
    "$$"
   ]
  },
  {
   "cell_type": "code",
   "execution_count": 45,
   "id": "46a1f0ad",
   "metadata": {},
   "outputs": [
    {
     "data": {
      "text/plain": [
       "-0.5"
      ]
     },
     "execution_count": 45,
     "metadata": {},
     "output_type": "execute_result"
    }
   ],
   "source": [
    "x = -2\n",
    "if x > 0: \n",
    "  x = x**3 +2\n",
    "else: \n",
    "  x = 1/x\n",
    "x"
   ]
  },
  {
   "cell_type": "markdown",
   "id": "b0a4ca47",
   "metadata": {},
   "source": [
    "Det er indrykningen, der styrer hvad der kommer med i en `if`-statement:"
   ]
  },
  {
   "cell_type": "code",
   "execution_count": 46,
   "id": "d32469d5",
   "metadata": {},
   "outputs": [],
   "source": [
    "member_fees = [0, 12.5, 34, 199.99]"
   ]
  },
  {
   "cell_type": "code",
   "execution_count": 47,
   "id": "d2f17129",
   "metadata": {},
   "outputs": [
    {
     "data": {
      "text/plain": [
       "True"
      ]
     },
     "execution_count": 47,
     "metadata": {},
     "output_type": "execute_result"
    }
   ],
   "source": [
    "expenses = 200\n",
    "is_expenses_covered = expenses < sum(member_fees)\n",
    "is_expenses_covered"
   ]
  },
  {
   "cell_type": "code",
   "execution_count": 48,
   "id": "e981f20e",
   "metadata": {},
   "outputs": [
    {
     "name": "stdout",
     "output_type": "stream",
     "text": [
      "Wuhuu! We made it.\n",
      "this line is printed no matter what\n"
     ]
    }
   ],
   "source": [
    "if (is_expenses_covered):\n",
    "    print('Wuhuu! We made it.')\n",
    "else:\n",
    "    print('We need more money')\n",
    "print('this line is printed no matter what')"
   ]
  },
  {
   "cell_type": "markdown",
   "id": "5b399db7",
   "metadata": {},
   "source": [
    "Vælg et tilfældigt element fra en liste og kør noget kode afhængig af udfaldet:"
   ]
  },
  {
   "cell_type": "code",
   "execution_count": 49,
   "id": "115b512f",
   "metadata": {},
   "outputs": [
    {
     "name": "stdout",
     "output_type": "stream",
     "text": [
      "who has to pay?\n",
      "Magnus\n"
     ]
    }
   ],
   "source": [
    "from random import choice\n",
    "\n",
    "random_member = choice([\"E\", \"L\", \"M\", \"R\"])\n",
    "\n",
    "print(\"who has to pay?\")\n",
    "if (random_member == \"E\"):\n",
    "    print('Emma')\n",
    "elif (random_member == \"L\"):\n",
    "    print(\"Laura\")\n",
    "elif (random_member == \"M\"):\n",
    "    print(\"Magnus\")\n",
    "else:\n",
    "    print(\"Rune\")"
   ]
  },
  {
   "cell_type": "markdown",
   "id": "52307baa",
   "metadata": {},
   "source": [
    "# 9. Funktioner"
   ]
  },
  {
   "cell_type": "markdown",
   "id": "d94da867",
   "metadata": {},
   "source": [
    "Funktioner er en måde at genbruge kodeblokke på, og begrebet minder en del om funktioner i matematik (men dog med forskelle). En funktion er en maskine, der\n",
    "1. (valgfrit) tager et input ind (parameter/argument).\n",
    "2. Udfører nogle beregninger og kører nogle kommandoer\n",
    "3. (valgfrit) returnerer et resultat."
   ]
  },
  {
   "cell_type": "code",
   "execution_count": 50,
   "id": "e72a49e3",
   "metadata": {},
   "outputs": [],
   "source": [
    "members = [\"Emma\", \"Laura\", \"Magnus\", \"Rune\"]"
   ]
  },
  {
   "cell_type": "code",
   "execution_count": 51,
   "id": "c35223d8",
   "metadata": {},
   "outputs": [
    {
     "name": "stdout",
     "output_type": "stream",
     "text": [
      "['Emma', 'Laura', 'Magnus', 'Rune', 'Carl']\n"
     ]
    }
   ],
   "source": [
    "def add_member(name):\n",
    "    '''Adds the name to the members list.\n",
    "    '''\n",
    "    members.append(name)\n",
    "\n",
    "add_member(\"Carl\")\n",
    "print(members)"
   ]
  },
  {
   "cell_type": "code",
   "execution_count": 52,
   "id": "3dbcf498",
   "metadata": {},
   "outputs": [
    {
     "data": {
      "text/plain": [
       "['Emma', 'Laura', 'Magnus', 'Rune']"
      ]
     },
     "execution_count": 52,
     "metadata": {},
     "output_type": "execute_result"
    }
   ],
   "source": [
    "members.remove('Carl')\n",
    "members"
   ]
  },
  {
   "cell_type": "code",
   "execution_count": 53,
   "id": "d447cf29",
   "metadata": {},
   "outputs": [
    {
     "name": "stdout",
     "output_type": "stream",
     "text": [
      "['Emma', 'Laura', 'Magnus', 'Rune', 'Carl']\n"
     ]
    }
   ],
   "source": [
    "def add_member(name):\n",
    "    '''Adds the name to the members list.\n",
    "    '''\n",
    "    if name not in members:\n",
    "        members.append(name)\n",
    "\n",
    "add_member(\"Carl\")\n",
    "print(members)"
   ]
  },
  {
   "cell_type": "markdown",
   "id": "cb799a02",
   "metadata": {},
   "source": [
    "**Indrykning**"
   ]
  },
  {
   "cell_type": "markdown",
   "id": "77356ffb",
   "metadata": {},
   "source": [
    "Ligesom med `if`-statements er det indrykningen, der afgøre hvilke linjer, der bliver kørt."
   ]
  },
  {
   "cell_type": "code",
   "execution_count": 54,
   "id": "ad6cb8fd",
   "metadata": {},
   "outputs": [
    {
     "name": "stdout",
     "output_type": "stream",
     "text": [
      "Line 1\n",
      "Line 2\n"
     ]
    }
   ],
   "source": [
    "def print_lines():\n",
    "    print('Line 1')\n",
    "    print('Line 2')\n",
    "\n",
    "print_lines()"
   ]
  },
  {
   "cell_type": "code",
   "execution_count": 55,
   "id": "6a03582e",
   "metadata": {},
   "outputs": [
    {
     "name": "stdout",
     "output_type": "stream",
     "text": [
      "Line 2\n",
      "Line 1\n"
     ]
    }
   ],
   "source": [
    "def print_lines():\n",
    "    print('Line 1')\n",
    "print('Line 2')\n",
    "\n",
    "print_lines()"
   ]
  },
  {
   "cell_type": "markdown",
   "id": "af2e113f",
   "metadata": {},
   "source": [
    "### Karakterberegner eksempel\n",
    "\n",
    "Forestil dig, at du skal på udveksling og derfor har brug for at omregne dit karaktersnit fra kurser i Danmark til den internationale ects-skala."
   ]
  },
  {
   "cell_type": "markdown",
   "id": "8dc88b85",
   "metadata": {},
   "source": [
    "Vi kan lave vores egen funktion til at beregne gennemsnit:"
   ]
  },
  {
   "cell_type": "code",
   "execution_count": 56,
   "id": "0317f8b2",
   "metadata": {},
   "outputs": [
    {
     "name": "stdout",
     "output_type": "stream",
     "text": [
      "6.333333333333333\n"
     ]
    }
   ],
   "source": [
    "grades = [10, 2, 7]\n",
    "\n",
    "def grades_mean(grades):\n",
    "    '''Return mean of grades list.'''\n",
    "    return sum(grades)/len(grades)\n",
    "\n",
    "gpa = grades_mean(grades)\n",
    "print(gpa)"
   ]
  },
  {
   "cell_type": "markdown",
   "id": "2cfdea30",
   "metadata": {},
   "source": [
    "Eller vi kan bruge NumPy's indbyggede funktion til at beregne gennemsnit:"
   ]
  },
  {
   "cell_type": "code",
   "execution_count": 57,
   "id": "155168d6",
   "metadata": {},
   "outputs": [
    {
     "name": "stdout",
     "output_type": "stream",
     "text": [
      "6.333333333333333\n"
     ]
    }
   ],
   "source": [
    "import numpy as np\n",
    "\n",
    "grades = [10, 2, 7]\n",
    "\n",
    "gpa = np.mean(grades)\n",
    "print(gpa)"
   ]
  },
  {
   "cell_type": "markdown",
   "id": "48130109",
   "metadata": {},
   "source": [
    "Værtsuniversitetet ønsker dine karakterer på ECTS-skalaen, så du laver din egen funktion til at konvertere karakterer fra den danske til internationale skala:"
   ]
  },
  {
   "cell_type": "code",
   "execution_count": 58,
   "id": "88dac04a",
   "metadata": {},
   "outputs": [
    {
     "name": "stdout",
     "output_type": "stream",
     "text": [
      "C\n"
     ]
    }
   ],
   "source": [
    "def convert_grade(dk_grade):\n",
    "    dk_scale = [-3, 0, 2, 4, 7, 10, 12]\n",
    "    ects_scale = [\"F\", \"Fx\", \"E\", \"D\", \"C\", \"B\", \"A\"]\n",
    "    index = dk_scale.index(dk_grade)\n",
    "    return ects_scale[index]\n",
    "\n",
    "print(convert_grade(7))"
   ]
  },
  {
   "cell_type": "markdown",
   "id": "14659bfb",
   "metadata": {},
   "source": [
    "# 10. Løkker og list comprehensions"
   ]
  },
  {
   "cell_type": "markdown",
   "id": "6f892cdc",
   "metadata": {},
   "source": [
    "## Løkker"
   ]
  },
  {
   "cell_type": "markdown",
   "id": "00dfad3f",
   "metadata": {},
   "source": [
    "Ønsker man at gentage en linje kode flere gange skal man bruge et `for loop` (en løkke på dansk). Fx til at gange alle elementer i en liste"
   ]
  },
  {
   "cell_type": "code",
   "execution_count": 59,
   "id": "718bb841",
   "metadata": {},
   "outputs": [
    {
     "name": "stdout",
     "output_type": "stream",
     "text": [
      "0\n",
      "1\n",
      "2\n"
     ]
    }
   ],
   "source": [
    "for i in [0, 1, 2]:\n",
    "    print(i)"
   ]
  },
  {
   "cell_type": "code",
   "execution_count": 60,
   "id": "2c5cc18f",
   "metadata": {
    "scrolled": true
   },
   "outputs": [
    {
     "name": "stdout",
     "output_type": "stream",
     "text": [
      "0\n",
      "2\n",
      "4\n"
     ]
    }
   ],
   "source": [
    "for i in [0, 1, 2]:\n",
    "    print(i*2)"
   ]
  },
  {
   "cell_type": "markdown",
   "id": "c0efd3c4",
   "metadata": {},
   "source": [
    "Konvertér samtlige karakterer på én gang:"
   ]
  },
  {
   "cell_type": "code",
   "execution_count": 61,
   "id": "68cc6ecb",
   "metadata": {},
   "outputs": [
    {
     "name": "stdout",
     "output_type": "stream",
     "text": [
      "B\n",
      "E\n",
      "C\n"
     ]
    }
   ],
   "source": [
    "for grade in grades:\n",
    "    print(convert_grade(grade))"
   ]
  },
  {
   "cell_type": "markdown",
   "id": "ade6523c",
   "metadata": {},
   "source": [
    "Omregn grader Celcius til Kelvin for 3 temperaturmålinger:"
   ]
  },
  {
   "cell_type": "code",
   "execution_count": 62,
   "id": "32417362",
   "metadata": {},
   "outputs": [
    {
     "name": "stdout",
     "output_type": "stream",
     "text": [
      "298.65 K\n",
      "295.34999999999997 K\n",
      "311.15 K\n"
     ]
    }
   ],
   "source": [
    "temperatures = [25.5, 22.2, 38]\n",
    "\n",
    "for T in temperatures:\n",
    "    print(str(T + 273.15) + ' K')"
   ]
  },
  {
   "cell_type": "markdown",
   "id": "2d9e9210",
   "metadata": {},
   "source": [
    "## List comprehensions"
   ]
  },
  {
   "cell_type": "markdown",
   "id": "3cf0d8db",
   "metadata": {},
   "source": [
    "List comprehensions er et shorthand alternativ til at lave for loops:"
   ]
  },
  {
   "cell_type": "code",
   "execution_count": 63,
   "id": "dcc4fa7a",
   "metadata": {},
   "outputs": [
    {
     "data": {
      "text/plain": [
       "[298.65, 295.34999999999997, 311.15]"
      ]
     },
     "execution_count": 63,
     "metadata": {},
     "output_type": "execute_result"
    }
   ],
   "source": [
    "[T + 273.15 for T in temperatures]"
   ]
  },
  {
   "cell_type": "markdown",
   "id": "8b3678fa",
   "metadata": {},
   "source": [
    "# Flere Eksempler\n",
    "Her er flere eksempler på brug af Python. Jeg har ladet beskrivelserne være på engelsk."
   ]
  },
  {
   "cell_type": "markdown",
   "id": "e4b64c89",
   "metadata": {},
   "source": [
    "## Example 1 - Graph of mathematical function"
   ]
  },
  {
   "cell_type": "code",
   "execution_count": 64,
   "id": "9d575156",
   "metadata": {},
   "outputs": [
    {
     "data": {
      "image/png": "[encoded data removed]",
      "text/plain": [
       "<Figure size 432x288 with 1 Axes>"
      ]
     },
     "metadata": {
      "needs_background": "light"
     },
     "output_type": "display_data"
    }
   ],
   "source": [
    "import numpy as np\n",
    "import matplotlib.pyplot as plt\n",
    "\n",
    "x = np.linspace(0,100)\n",
    "y = x**2\n",
    "plt.plot(x,y)\n",
    "plt.show()"
   ]
  },
  {
   "cell_type": "code",
   "execution_count": 65,
   "id": "1abf8165",
   "metadata": {
    "scrolled": true
   },
   "outputs": [
    {
     "data": {
      "image/png": "[encoded data removed]",
      "text/plain": [
       "<Figure size 432x288 with 1 Axes>"
      ]
     },
     "metadata": {
      "needs_background": "light"
     },
     "output_type": "display_data"
    }
   ],
   "source": [
    "import numpy as np\n",
    "import matplotlib.pyplot as plt\n",
    "\n",
    "x = np.arange(-np.pi,np.pi,0.1)\n",
    "y = np.sin(x)\n",
    "\n",
    "plt.plot(x,y)\n",
    "plt.show()"
   ]
  },
  {
   "cell_type": "markdown",
   "id": "7386ebb3",
   "metadata": {},
   "source": [
    "### More functions in same plot"
   ]
  },
  {
   "cell_type": "code",
   "execution_count": 66,
   "id": "5e9765ae",
   "metadata": {},
   "outputs": [
    {
     "data": {
      "image/png": "[encoded data removed]",
      "text/plain": [
       "<Figure size 432x288 with 1 Axes>"
      ]
     },
     "metadata": {
      "needs_background": "light"
     },
     "output_type": "display_data"
    }
   ],
   "source": [
    "z = np.cos(x)\n",
    "\n",
    "plt.plot(x,y)\n",
    "plt.plot(x,z)\n",
    "plt.show()"
   ]
  },
  {
   "cell_type": "markdown",
   "id": "29ed3e2b",
   "metadata": {},
   "source": [
    "### Figure with subplots"
   ]
  },
  {
   "cell_type": "code",
   "execution_count": 67,
   "id": "b6564a8f",
   "metadata": {},
   "outputs": [
    {
     "data": {
      "image/png": "[encoded data removed]",
      "text/plain": [
       "<Figure size 720x360 with 2 Axes>"
      ]
     },
     "metadata": {
      "needs_background": "light"
     },
     "output_type": "display_data"
    }
   ],
   "source": [
    "fig, axs = plt.subplots(1, 2, figsize=(10,5))\n",
    "fig.suptitle('Trigonometric functions')\n",
    "axs[0].plot(x,y,'g',label='sin(x)')\n",
    "axs[0].legend()\n",
    "axs[0].set_title('First plot')\n",
    "\n",
    "axs[1].plot(x,z,'r',label='cos(x)')\n",
    "axs[1].legend()\n",
    "axs[1].set_title('Second plot')\n",
    "\n",
    "plt.show()"
   ]
  },
  {
   "cell_type": "markdown",
   "id": "f306c03d",
   "metadata": {},
   "source": [
    "**Export figure/plot to pdf:**"
   ]
  },
  {
   "cell_type": "code",
   "execution_count": 68,
   "id": "dbde6052",
   "metadata": {},
   "outputs": [],
   "source": [
    "plt.plot(x,y)\n",
    "plt.savefig('./sinx.pdf', bbox_inches='tight') # Save figure in current folder\n",
    "plt.close() # Close current figure to hide it from the output."
   ]
  },
  {
   "cell_type": "markdown",
   "id": "49db0972",
   "metadata": {},
   "source": [
    "## Example 2 - Read data from csv"
   ]
  },
  {
   "cell_type": "code",
   "execution_count": 69,
   "id": "73c955ce",
   "metadata": {},
   "outputs": [
    {
     "data": {
      "text/plain": [
       "(array([ 1,  2,  3,  4,  5,  6,  7,  8,  9, 10]),\n",
       " array([  5.44,   6.13,  13.11,  22.16,  32.33,  61.39,  98.27, 164.02,\n",
       "        270.38, 426.18]))"
      ]
     },
     "execution_count": 69,
     "metadata": {},
     "output_type": "execute_result"
    }
   ],
   "source": [
    "import numpy as np\n",
    "import pandas as pd\n",
    "data = pd.read_csv('data.csv')\n",
    "x = np.array(data['x'])\n",
    "y = np.array(data['y'])\n",
    "x,y"
   ]
  },
  {
   "cell_type": "code",
   "execution_count": 70,
   "id": "456e225e",
   "metadata": {},
   "outputs": [
    {
     "data": {
      "text/html": [
       "<div>\n",
       "<style scoped>\n",
       "    .dataframe tbody tr th:only-of-type {\n",
       "        vertical-align: middle;\n",
       "    }\n",
       "\n",
       "    .dataframe tbody tr th {\n",
       "        vertical-align: top;\n",
       "    }\n",
       "\n",
       "    .dataframe thead th {\n",
       "        text-align: right;\n",
       "    }\n",
       "</style>\n",
       "<table border=\"1\" class=\"dataframe\">\n",
       "  <thead>\n",
       "    <tr style=\"text-align: right;\">\n",
       "      <th></th>\n",
       "      <th>x</th>\n",
       "      <th>y</th>\n",
       "    </tr>\n",
       "  </thead>\n",
       "  <tbody>\n",
       "    <tr>\n",
       "      <th>0</th>\n",
       "      <td>1</td>\n",
       "      <td>5.44</td>\n",
       "    </tr>\n",
       "    <tr>\n",
       "      <th>1</th>\n",
       "      <td>2</td>\n",
       "      <td>6.13</td>\n",
       "    </tr>\n",
       "    <tr>\n",
       "      <th>2</th>\n",
       "      <td>3</td>\n",
       "      <td>13.11</td>\n",
       "    </tr>\n",
       "    <tr>\n",
       "      <th>3</th>\n",
       "      <td>4</td>\n",
       "      <td>22.16</td>\n",
       "    </tr>\n",
       "    <tr>\n",
       "      <th>4</th>\n",
       "      <td>5</td>\n",
       "      <td>32.33</td>\n",
       "    </tr>\n",
       "    <tr>\n",
       "      <th>5</th>\n",
       "      <td>6</td>\n",
       "      <td>61.39</td>\n",
       "    </tr>\n",
       "    <tr>\n",
       "      <th>6</th>\n",
       "      <td>7</td>\n",
       "      <td>98.27</td>\n",
       "    </tr>\n",
       "    <tr>\n",
       "      <th>7</th>\n",
       "      <td>8</td>\n",
       "      <td>164.02</td>\n",
       "    </tr>\n",
       "    <tr>\n",
       "      <th>8</th>\n",
       "      <td>9</td>\n",
       "      <td>270.38</td>\n",
       "    </tr>\n",
       "    <tr>\n",
       "      <th>9</th>\n",
       "      <td>10</td>\n",
       "      <td>426.18</td>\n",
       "    </tr>\n",
       "  </tbody>\n",
       "</table>\n",
       "</div>"
      ],
      "text/plain": [
       "    x       y\n",
       "0   1    5.44\n",
       "1   2    6.13\n",
       "2   3   13.11\n",
       "3   4   22.16\n",
       "4   5   32.33\n",
       "5   6   61.39\n",
       "6   7   98.27\n",
       "7   8  164.02\n",
       "8   9  270.38\n",
       "9  10  426.18"
      ]
     },
     "execution_count": 70,
     "metadata": {},
     "output_type": "execute_result"
    }
   ],
   "source": [
    "data"
   ]
  },
  {
   "cell_type": "code",
   "execution_count": 71,
   "id": "f5ea214b",
   "metadata": {},
   "outputs": [
    {
     "data": {
      "image/png": "[encoded data removed]",
      "text/plain": [
       "<Figure size 432x288 with 1 Axes>"
      ]
     },
     "metadata": {
      "needs_background": "light"
     },
     "output_type": "display_data"
    }
   ],
   "source": [
    "plt.plot(x,y,'o')\n",
    "plt.show()"
   ]
  },
  {
   "cell_type": "markdown",
   "id": "dfea25f4",
   "metadata": {},
   "source": [
    "## Example 3 - Regression on data"
   ]
  },
  {
   "cell_type": "code",
   "execution_count": 72,
   "id": "1040c16e",
   "metadata": {},
   "outputs": [],
   "source": [
    "import sklearn.linear_model as lm\n",
    "\n",
    "def linear_regression(x, y):\n",
    "    X = np.array(x).reshape(-1,1)\n",
    "    y = np.array(y)\n",
    "\n",
    "    # Fit ordinary least squares regression model\n",
    "    model = lm.LinearRegression(fit_intercept=True)\n",
    "    model = model.fit(X,y)\n",
    "    \n",
    "    score = model.score(X, y)\n",
    "    a = model.coef_\n",
    "    b = model.intercept_\n",
    "    return model, score, a, b"
   ]
  },
  {
   "cell_type": "code",
   "execution_count": 73,
   "id": "fd555f39",
   "metadata": {},
   "outputs": [],
   "source": [
    "X = np.arange(min(x)-0.01,max(x)+0.01,0.01).reshape(-1,1)"
   ]
  },
  {
   "cell_type": "code",
   "execution_count": 74,
   "id": "0077c2a2",
   "metadata": {},
   "outputs": [],
   "source": [
    "model, score, a, b = linear_regression(x, y)\n",
    "Y_est = model.predict(X)"
   ]
  },
  {
   "cell_type": "markdown",
   "id": "b3e01365",
   "metadata": {},
   "source": [
    "### Linear regression"
   ]
  },
  {
   "cell_type": "code",
   "execution_count": 75,
   "id": "a833c077",
   "metadata": {},
   "outputs": [
    {
     "data": {
      "image/png": "[encoded data removed]",
      "text/plain": [
       "<Figure size 432x288 with 1 Axes>"
      ]
     },
     "metadata": {
      "needs_background": "light"
     },
     "output_type": "display_data"
    }
   ],
   "source": [
    "plt.plot(x,y,'o')\n",
    "plt.plot(X,Y_est,'-r')\n",
    "# plt.plot(X,a*X+b,'-g') # Alternatively\n",
    "plt.show()"
   ]
  },
  {
   "cell_type": "markdown",
   "id": "d49cfe88",
   "metadata": {},
   "source": [
    "### Exponential regression"
   ]
  },
  {
   "cell_type": "code",
   "execution_count": 76,
   "id": "c8bb4140",
   "metadata": {
    "scrolled": false
   },
   "outputs": [
    {
     "name": "stdout",
     "output_type": "stream",
     "text": [
      "0.995677236894319 [0.21977613] 0.44651331454462984\n"
     ]
    },
    {
     "data": {
      "image/png": "[encoded data removed]",
      "text/plain": [
       "<Figure size 432x288 with 1 Axes>"
      ]
     },
     "metadata": {
      "needs_background": "light"
     },
     "output_type": "display_data"
    }
   ],
   "source": [
    "exp_model, score, a, b = linear_regression(x, np.log10(y))\n",
    "Z_est = exp_model.predict(X)\n",
    "print(score, a, b)\n",
    "plt.plot(x,y,'o')\n",
    "plt.plot(X,10**Z_est,'-g')\n",
    "# plt.plot(X,(10**b)*(10**a)**X,'-g') # Alternatively\n",
    "plt.show()"
   ]
  },
  {
   "cell_type": "markdown",
   "id": "118907ea",
   "metadata": {},
   "source": [
    "# Power Regression"
   ]
  },
  {
   "cell_type": "code",
   "execution_count": 77,
   "id": "b7beff07",
   "metadata": {},
   "outputs": [
    {
     "name": "stdout",
     "output_type": "stream",
     "text": [
      "0.8905727844760719 [1.97678413] 0.3585585117920571\n"
     ]
    },
    {
     "data": {
      "image/png": "[encoded data removed]",
      "text/plain": [
       "<Figure size 432x288 with 1 Axes>"
      ]
     },
     "metadata": {
      "needs_background": "light"
     },
     "output_type": "display_data"
    }
   ],
   "source": [
    "power_model, score, a, b = linear_regression(np.log10(x), np.log10(y))\n",
    "W_est = power_model.predict(np.log10(X))\n",
    "print(score, a, b)\n",
    "plt.plot(x,y,'o')\n",
    "plt.plot(X,10**W_est,'-b')\n",
    "# plt.plot(X,(10**b)*(X**a),'-g') # Alternatively\n",
    "plt.xlim(0,11)\n",
    "plt.show()"
   ]
  },
  {
   "cell_type": "markdown",
   "id": "f8829751",
   "metadata": {},
   "source": [
    "## Working with files"
   ]
  },
  {
   "cell_type": "code",
   "execution_count": 78,
   "id": "ad2aa82a",
   "metadata": {},
   "outputs": [
    {
     "name": "stdout",
     "output_type": "stream",
     "text": [
      "[['.ipynb_checkpoints'], []]\n"
     ]
    }
   ],
   "source": [
    "import os\n",
    "print([dirs for root, dirs, files in os.walk(\"./\")])"
   ]
  },
  {
   "cell_type": "code",
   "execution_count": 79,
   "id": "d1cbfc92",
   "metadata": {},
   "outputs": [
    {
     "name": "stdout",
     "output_type": "stream",
     "text": [
      "[['00-Python for begyndere-2022-04-19.ipynb', '.DS_Store', 'hubble.jpg', 'data.csv', 'Pandas_Cheat_Sheet.pdf', 'Numpy_Python_Cheat_Sheet.pdf', 'sinx.pdf'], ['Python for begyndere-2022-02-22-checkpoint.ipynb', '00-Python for begyndere-checkpoint.ipynb', '00-Python for begyndere-2022-04-19-checkpoint.ipynb', 'Python for begyndere-checkpoint.ipynb', '00-Python for begyndere-2022-02-22-checkpoint.ipynb']]\n"
     ]
    }
   ],
   "source": [
    "import os\n",
    "\n",
    "files = [files for root, dirs, files in os.walk(\"./\")]\n",
    "\n",
    "print(files)"
   ]
  },
  {
   "cell_type": "code",
   "execution_count": 80,
   "id": "02592abd",
   "metadata": {},
   "outputs": [
    {
     "name": "stdout",
     "output_type": "stream",
     "text": [
      "['1', '05.4']\n",
      "['2', '06.1']\n",
      "['3', '13.1']\n",
      "['4', '22.1']\n",
      "['5', '32.3']\n",
      "['6', '61.3']\n",
      "['7', '98.2']\n",
      "['8', '164.0']\n",
      "['9', '270.3']\n",
      "['10', '426.']\n"
     ]
    }
   ],
   "source": [
    "f = open('./data.csv')\n",
    "lines = f.readlines()\n",
    "for line in lines[1:]:\n",
    "    print(line[:-2].split(','))"
   ]
  },
  {
   "cell_type": "markdown",
   "id": "c0818410",
   "metadata": {},
   "source": [
    "# Interfaces"
   ]
  },
  {
   "cell_type": "markdown",
   "id": "5add1022",
   "metadata": {},
   "source": [
    "Simple command line interfaces er nemme at lave i Python:"
   ]
  },
  {
   "cell_type": "code",
   "execution_count": 81,
   "id": "23bc726d",
   "metadata": {},
   "outputs": [
    {
     "name": "stdout",
     "output_type": "stream",
     "text": [
      "Would you like some ice cream? (y/n): y\n",
      "Received input is:  y\n",
      "You get an ice cream!\n"
     ]
    }
   ],
   "source": [
    "str = input(\"Would you like some ice cream? (y/n): \")\n",
    "print(\"Received input is: \", str)\n",
    "7\n",
    "if (str == 'y'):\n",
    "    print(\"You get an ice cream!\")\n",
    "elif (str == 'n'):\n",
    "    print(\"No ice cream sorry.\")\n",
    "else:\n",
    "    print(\"Please choose either y or n\")"
   ]
  },
  {
   "cell_type": "markdown",
   "id": "16ae841d",
   "metadata": {},
   "source": [
    "## GUIs and graphical web applications\n",
    "Python is in my personal opinion not really suited for building Graphical User Interfaces (GUIs). If you wish to build a profesional GUI I would recommend a web solution - for bigger frontends (interfaces, which the user interact with directly) you can for instance use React with javascript and then Python with Django for building a server-backend (functionality, which the user doesn't interact with directly). There does exist some Python packages, which you may use, if you insist on building a GUI with Python:\n",
    "1. tkinter (part of Python standard library): https://docs.python.org/3/library/tkinter.html\n",
    "2. PyQt (installed with Anaconda): https://wiki.python.org/moin/PyQt. "
   ]
  },
  {
   "cell_type": "markdown",
   "id": "c16fa53d",
   "metadata": {},
   "source": [
    "## Load image data"
   ]
  },
  {
   "cell_type": "code",
   "execution_count": 84,
   "id": "5f247cff",
   "metadata": {},
   "outputs": [
    {
     "name": "stdout",
     "output_type": "stream",
     "text": [
      "(1200, 1200, 3)\n"
     ]
    }
   ],
   "source": [
    "import numpy as np\n",
    "from PIL import Image\n",
    "\n",
    "img = Image.open('hubble.jpg')\n",
    "img_array = np.array(img)\n",
    "print(img_array.shape) \n",
    "# img.show()"
   ]
  },
  {
   "cell_type": "markdown",
   "id": "a1f18a16",
   "metadata": {},
   "source": [
    "Count white pixels fraction"
   ]
  },
  {
   "cell_type": "code",
   "execution_count": 83,
   "id": "a30a9457",
   "metadata": {},
   "outputs": [
    {
     "data": {
      "text/plain": [
       "0.004540046296296296"
      ]
     },
     "execution_count": 83,
     "metadata": {},
     "output_type": "execute_result"
    }
   ],
   "source": [
    "# Count pixel values.\n",
    "img_array[img_array > 254].size / img_array.size"
   ]
  },
  {
   "cell_type": "markdown",
   "id": "5dcfcf13",
   "metadata": {},
   "source": [
    "## Managing dependencies with Conda Environments"
   ]
  },
  {
   "cell_type": "markdown",
   "id": "ee1b04ee",
   "metadata": {},
   "source": [
    "The following is slightly more advanced than what is needed for the first introduction, but I've included it, since it might come in handy. When you are many people working on the same project, you need to ensure, that all have the same packages and versions installed. You can manage this with conda environments."
   ]
  },
  {
   "cell_type": "markdown",
   "id": "5ecb1f10",
   "metadata": {},
   "source": [
    "1. Open up a terminal and navigate to the project directory (`cd path/to/project`). Create environment (only first time) with specified Python version by running the following:\n",
    "```\n",
    "conda create -n myProject python=3.7.6\n",
    "```\n",
    "2. Activate environment:\n",
    "```\n",
    "conda activate myProject\n",
    "```\n",
    "3. Make text-file `requirements.txt` listing all requirements. The contents of the file could e.g. be:\n",
    "```\n",
    "numpy\n",
    "matplotlib\n",
    "pandas\n",
    "```\n",
    "3. Install all requirements with pip\n",
    "```\n",
    "pip install -r requirements.txt\n",
    "```"
   ]
  }
 ],
 "metadata": {
  "kernelspec": {
   "display_name": "Python 3",
   "language": "python",
   "name": "python3"
  },
  "language_info": {
   "codemirror_mode": {
    "name": "ipython",
    "version": 3
   },
   "file_extension": ".py",
   "mimetype": "text/x-python",
   "name": "python",
   "nbconvert_exporter": "python",
   "pygments_lexer": "ipython3",
   "version": "3.8.8"
  }
 },
 "nbformat": 4,
 "nbformat_minor": 5
}
