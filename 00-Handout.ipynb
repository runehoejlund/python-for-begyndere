{
 "cells": [
  {
   "cell_type": "markdown",
   "id": "9e3b6b45",
   "metadata": {
    "id": "9e3b6b45"
   },
   "source": [
    "# Python for begyndere"
   ]
  },
  {
   "cell_type": "markdown",
   "id": "3f52e10c",
   "metadata": {
    "id": "3f52e10c"
   },
   "source": [
    "## 1. Hvad skal jeg skrive min Python-kode i?"
   ]
  },
  {
   "cell_type": "markdown",
   "id": "bwVKogXXaRMM",
   "metadata": {
    "id": "bwVKogXXaRMM"
   },
   "source": [
    "Der er mange forskellige redigeringsværktøjer (IDE'er) til at skrive Python-kode: Bl.a. Google Colab, Jupyter Notebook, Spyder og Visual Studio Code. Jeg foretrækker selv Visual Studio, men som begynder vil jeg anbefale dig enten at bruge Colab (kræver ikke installering, men åbnes via Google Drive) eller Jupyter (køres \"lokalt\" på din computer, efter du har installeret [Anaconda-distributionen](https://www.anaconda.com/) af Python). Både Colab og Jupyter kan åbne denne fil i et interaktivt \"notebook\"-format. Det betyder fx, at man kan skrive tekst som dette og vise grafer og resultatet af sine beregninger direkte i dokumentet, som jeg illustrerer nedenfor."
   ]
  },
  {
   "cell_type": "markdown",
   "id": "8xO0PpNMZltu",
   "metadata": {
    "id": "8xO0PpNMZltu"
   },
   "source": [
    "### Genveje i Google Colab Notebook\n",
    "| Kommando                            | Genvej      |\n",
    "|:-----------------------------------:|:-------------:|\n",
    "| Kør celle                           | shift + enter |\n",
    "| Kør celle og indsæt ny under        | alt (option) + enter   |\n",
    "| Ændr celle til tekst                | ctr + M, M       |\n",
    "| Ændr celle til kode                 | ctr + M, Y       |\n",
    "| Fjern celle                         | ctr + D, D   |\n",
    "\n",
    "### Indtasting af specielle tegn\n",
    "| Tegn | Mac dansk tastatur                        | Windows dansk tastatur               | US tastatur                    |\n",
    "|:----------:|:-----------------------------------:|:------------------------------:|:------------------------------:|\n",
    "| { }        | alt + shift + 8 og alt + shift + 9  | AltGR + 7 og Altgr + 0         | Shift + \\[ \\] (right to P key) |\n",
    "| \\[ \\]      | alt + 8 og alt + 9                  | AltGR + 8 og Altgr + 9         | \\[ \\] (right to P key)         |\n",
    "| \\          | alt + shift + 7                     | ctrl + alt + < eller AltGr + 9 | \\ (left to enter)              |\n",
    "| _          | shift + -                           | shift + -                      | shift + -                      |"
   ]
  },
  {
   "cell_type": "markdown",
   "id": "Uvwzj8MdZcDh",
   "metadata": {
    "id": "Uvwzj8MdZcDh"
   },
   "source": [
    "Tekst indskrives i markdown (læs mere her: https://github.com/adam-p/markdown-here/wiki/Markdown-Cheatsheet)."
   ]
  },
  {
   "cell_type": "markdown",
   "id": "R_UaQhuxZJ9n",
   "metadata": {
    "id": "R_UaQhuxZJ9n"
   },
   "source": [
    "### Genveje i Jupyter Notebook (se kun hvis relevant)"
   ]
  },
  {
   "cell_type": "markdown",
   "id": "A-5luRFHZUcH",
   "metadata": {
    "id": "A-5luRFHZUcH"
   },
   "source": [
    "\n",
    "| Kommando                            | Genvej      |\n",
    "|:-----------------------------------:|:-------------:|\n",
    "| Kør celle                           | shift + enter |\n",
    "| Kør celle og indsæt ny under        | alt (option) + enter   |\n",
    "| Ændr celle til tekst                | esc + M       |\n",
    "| Ændr celle til kode                 | esc + Y       |\n",
    "| Fjern celle                         | esc + 2 x D   |"
   ]
  },
  {
   "cell_type": "markdown",
   "id": "8e69843b",
   "metadata": {
    "id": "8e69843b"
   },
   "source": [
    "### Interaktive grafer"
   ]
  },
  {
   "cell_type": "markdown",
   "id": "49f082eb",
   "metadata": {
    "id": "49f082eb"
   },
   "source": [
    "I en interaktiv notebook vises grafer og resultatet af beregninger direkte i output-feltet under python-kode-cellen:"
   ]
  },
  {
   "cell_type": "code",
   "execution_count": 1,
   "id": "8374d02a",
   "metadata": {
    "id": "8374d02a",
    "outputId": "3b721238-b899-4134-9c7b-7247c305619a"
   },
   "outputs": [
    {
     "data": {
      "image/png": "[encoded data removed]",
      "text/plain": [
       "<Figure size 640x480 with 1 Axes>"
      ]
     },
     "metadata": {},
     "output_type": "display_data"
    }
   ],
   "source": [
    "import numpy as np\n",
    "import matplotlib.pyplot as plt\n",
    "\n",
    "x = np.arange(-np.pi,np.pi,0.1)\n",
    "y = np.sin(x)\n",
    "\n",
    "plt.plot(x,y)\n",
    "plt.show()"
   ]
  },
  {
   "cell_type": "markdown",
   "id": "66d9a012",
   "metadata": {
    "id": "66d9a012"
   },
   "source": [
    "## 2. Kommandoer\n",
    "### Basale regnestykker"
   ]
  },
  {
   "cell_type": "markdown",
   "id": "13e188c2",
   "metadata": {
    "id": "13e188c2"
   },
   "source": [
    "Plus, minus, dividere og gange udføres med normale tegn, som du kender det fra fx Maple eller Matlab."
   ]
  },
  {
   "cell_type": "code",
   "execution_count": 2,
   "id": "d72bd14f",
   "metadata": {
    "id": "d72bd14f",
    "outputId": "4df6ca1a-53e5-488d-ba23-c5b684bc7063"
   },
   "outputs": [
    {
     "data": {
      "text/plain": [
       "6"
      ]
     },
     "execution_count": 2,
     "metadata": {},
     "output_type": "execute_result"
    }
   ],
   "source": [
    "3+4-1"
   ]
  },
  {
   "cell_type": "code",
   "execution_count": 3,
   "id": "19ec4dac",
   "metadata": {
    "id": "19ec4dac",
    "outputId": "35695a19-2b55-4976-f89b-083d4614064a"
   },
   "outputs": [
    {
     "data": {
      "text/plain": [
       "2.5"
      ]
     },
     "execution_count": 3,
     "metadata": {},
     "output_type": "execute_result"
    }
   ],
   "source": [
    "5/2"
   ]
  },
  {
   "cell_type": "code",
   "execution_count": 4,
   "id": "296f3860",
   "metadata": {
    "id": "296f3860",
    "outputId": "e61e45a8-8bcd-43af-b659-3681fb0ba3bc"
   },
   "outputs": [
    {
     "data": {
      "text/plain": [
       "12"
      ]
     },
     "execution_count": 4,
     "metadata": {},
     "output_type": "execute_result"
    }
   ],
   "source": [
    "3*4"
   ]
  },
  {
   "cell_type": "markdown",
   "id": "4361f725",
   "metadata": {
    "id": "4361f725"
   },
   "source": [
    "Potenser klares med en dobbelt-asteriks `**`. Her fx $5^2$"
   ]
  },
  {
   "cell_type": "code",
   "execution_count": 5,
   "id": "4ec346ec",
   "metadata": {
    "id": "4ec346ec",
    "outputId": "c3dbd1ce-ccc4-41f6-9ebb-9824caf1ea11"
   },
   "outputs": [
    {
     "data": {
      "text/plain": [
       "25"
      ]
     },
     "execution_count": 5,
     "metadata": {},
     "output_type": "execute_result"
    }
   ],
   "source": [
    "5**2"
   ]
  },
  {
   "cell_type": "markdown",
   "id": "0cfc9bc5",
   "metadata": {
    "id": "0cfc9bc5"
   },
   "source": [
    "Python har indbyggede kommandoer. Fx til at afrunde og bestemme absolut værdi."
   ]
  },
  {
   "cell_type": "code",
   "execution_count": 6,
   "id": "82e7dc82",
   "metadata": {
    "id": "82e7dc82",
    "outputId": "4836ebdc-6f0e-4824-ea4e-293afde47942"
   },
   "outputs": [
    {
     "data": {
      "text/plain": [
       "3"
      ]
     },
     "execution_count": 6,
     "metadata": {},
     "output_type": "execute_result"
    }
   ],
   "source": [
    "round(3.4)"
   ]
  },
  {
   "cell_type": "code",
   "execution_count": 7,
   "id": "81609bbd",
   "metadata": {
    "id": "81609bbd",
    "outputId": "ab916f48-c558-429b-9c41-2a10f4897bb6",
    "scrolled": true
   },
   "outputs": [
    {
     "data": {
      "text/plain": [
       "3"
      ]
     },
     "execution_count": 7,
     "metadata": {},
     "output_type": "execute_result"
    }
   ],
   "source": [
    "abs(-3)"
   ]
  },
  {
   "cell_type": "markdown",
   "id": "e0565763",
   "metadata": {
    "id": "e0565763"
   },
   "source": [
    "### Print statements"
   ]
  },
  {
   "cell_type": "markdown",
   "id": "89bb7604",
   "metadata": {
    "id": "89bb7604"
   },
   "source": [
    "Som udgangspunkt vises kun den sidste linje i en interaktiv Python Notebook som denne."
   ]
  },
  {
   "cell_type": "code",
   "execution_count": 8,
   "id": "15bbfdfb",
   "metadata": {
    "id": "15bbfdfb",
    "outputId": "f44fd3b8-aa5d-4c52-87cd-9774159bbbf1"
   },
   "outputs": [
    {
     "data": {
      "text/plain": [
       "2.5"
      ]
     },
     "execution_count": 8,
     "metadata": {},
     "output_type": "execute_result"
    }
   ],
   "source": [
    "3+4-1\n",
    "5/2"
   ]
  },
  {
   "cell_type": "markdown",
   "id": "ee0c09d6",
   "metadata": {
    "id": "ee0c09d6"
   },
   "source": [
    "Ønsker man at se mellemregninger kan man altid skrive `print` efterfulgt af paranteser rundt om ens udtryk."
   ]
  },
  {
   "cell_type": "code",
   "execution_count": 9,
   "id": "b94aa3c9",
   "metadata": {
    "id": "b94aa3c9",
    "outputId": "57e3f33d-b162-4701-f058-0b44e326ec95"
   },
   "outputs": [
    {
     "name": "stdout",
     "output_type": "stream",
     "text": [
      "6\n"
     ]
    },
    {
     "data": {
      "text/plain": [
       "2.5"
      ]
     },
     "execution_count": 9,
     "metadata": {},
     "output_type": "execute_result"
    }
   ],
   "source": [
    "print(3+4-1)\n",
    "5/2"
   ]
  },
  {
   "cell_type": "markdown",
   "id": "db1bff5c",
   "metadata": {
    "id": "db1bff5c"
   },
   "source": [
    "Man kan også indsætte tekst og variable i paranteserne for at printe det."
   ]
  },
  {
   "cell_type": "code",
   "execution_count": 10,
   "id": "c3101c76",
   "metadata": {
    "id": "c3101c76",
    "outputId": "218012a9-ea66-49bd-f9e1-19dc1496041f"
   },
   "outputs": [
    {
     "name": "stdout",
     "output_type": "stream",
     "text": [
      "Hello World\n"
     ]
    }
   ],
   "source": [
    "print(\"Hello World\")"
   ]
  },
  {
   "cell_type": "code",
   "execution_count": 11,
   "id": "53f0718d",
   "metadata": {
    "id": "53f0718d",
    "outputId": "4d086c5d-40c1-4550-a78a-ad7d36ca80f0"
   },
   "outputs": [
    {
     "name": "stdout",
     "output_type": "stream",
     "text": [
      "Hello Rune\n"
     ]
    }
   ],
   "source": [
    "name = \"Rune\"\n",
    "print(\"Hello \" + name)"
   ]
  },
  {
   "cell_type": "markdown",
   "id": "9bd4b220",
   "metadata": {
    "id": "9bd4b220"
   },
   "source": [
    "## 3. Variabler og kommentarer"
   ]
  },
  {
   "cell_type": "markdown",
   "id": "a1c6a9b2",
   "metadata": {
    "id": "a1c6a9b2"
   },
   "source": [
    "Brug lighedstegn for at definere en ny variabel. Fx som her, hvor vi vil holde styr på medlemmerne i en forening."
   ]
  },
  {
   "cell_type": "code",
   "execution_count": 12,
   "id": "1ee70a4b",
   "metadata": {
    "id": "1ee70a4b",
    "outputId": "7238cdc6-46f6-4dce-9172-8e44074c642e"
   },
   "outputs": [
    {
     "name": "stdout",
     "output_type": "stream",
     "text": [
      "14\n"
     ]
    }
   ],
   "source": [
    "member_count = 14\n",
    "print(member_count)"
   ]
  },
  {
   "cell_type": "markdown",
   "id": "6e0ac1be",
   "metadata": {
    "id": "6e0ac1be"
   },
   "source": [
    "Linjer der starter med `#` er kommentarer, som ikke bliver eksekveret. De forklarer og giver kontekst til koden."
   ]
  },
  {
   "cell_type": "code",
   "execution_count": 13,
   "id": "5b9605ce",
   "metadata": {
    "id": "5b9605ce",
    "outputId": "b287d236-1d9b-4a47-f552-a4ac05b3a8e0"
   },
   "outputs": [
    {
     "name": "stdout",
     "output_type": "stream",
     "text": [
      "560\n"
     ]
    }
   ],
   "source": [
    "# The yearly fee collected at the General Assembly.\n",
    "member_fee = 40\n",
    "income = member_fee*member_count\n",
    "print(income)"
   ]
  },
  {
   "cell_type": "markdown",
   "id": "f6e74f30",
   "metadata": {
    "id": "f6e74f30"
   },
   "source": [
    "Man kan også lave kommentarer på flere linjer:"
   ]
  },
  {
   "cell_type": "code",
   "execution_count": 14,
   "id": "654952a8",
   "metadata": {
    "id": "654952a8",
    "outputId": "64e0075b-c068-49c7-f6a7-f51eef2f4118"
   },
   "outputs": [
    {
     "data": {
      "text/plain": [
       "'\\nThis is the management system for the new awesome\\n\"Students who love Python\" student assocation.\\n'"
      ]
     },
     "execution_count": 14,
     "metadata": {},
     "output_type": "execute_result"
    }
   ],
   "source": [
    "'''\n",
    "This is the management system for the new awesome\n",
    "\"Students who love Python\" student assocation.\n",
    "'''"
   ]
  },
  {
   "cell_type": "markdown",
   "id": "d506a1eb",
   "metadata": {
    "id": "d506a1eb"
   },
   "source": [
    "### Skriv tilpas (ikke for mange) kommentarer:\n",
    "- Ingen kommentarer er foretrækket frem for forkerte eller outdatede kommentarer\n",
    "- kommentarer bør ikke forklare hvad man indlysende kan læse direkte fra koden."
   ]
  },
  {
   "cell_type": "code",
   "execution_count": 15,
   "id": "5052cf8b",
   "metadata": {
    "id": "5052cf8b",
    "outputId": "003a1901-2584-484a-d239-108295cea7ea"
   },
   "outputs": [
    {
     "data": {
      "text/plain": [
       "15"
      ]
     },
     "execution_count": 15,
     "metadata": {},
     "output_type": "execute_result"
    }
   ],
   "source": [
    "member_count += 1\n",
    "# member_count = member_count + 1\n",
    "member_count"
   ]
  },
  {
   "cell_type": "markdown",
   "id": "67177eb1",
   "metadata": {
    "id": "67177eb1"
   },
   "source": [
    "## 4. Datatyper: Tal og tekst"
   ]
  },
  {
   "cell_type": "markdown",
   "id": "hPqNfWeNcZtA",
   "metadata": {
    "id": "hPqNfWeNcZtA"
   },
   "source": [
    "Variabler kan repræsenterer mange ting. Når du definerer en variabel i Python, får den automatisk en datatype, som fortæller hvilken kategori, variablen tilhører. I princippet skal du ikke selv tænke over, hvad datatypen for din variabel er, men det er ofte nyttigt at vide det. Her er nogle af de vigtigste typer at kende:"
   ]
  },
  {
   "cell_type": "markdown",
   "id": "303a9620",
   "metadata": {
    "id": "303a9620"
   },
   "source": [
    "**Tal**"
   ]
  },
  {
   "cell_type": "markdown",
   "id": "9b271cea",
   "metadata": {
    "id": "9b271cea"
   },
   "source": [
    "**`int`: Integer (heltal)**"
   ]
  },
  {
   "cell_type": "code",
   "execution_count": 16,
   "id": "c8a63e51",
   "metadata": {
    "id": "c8a63e51"
   },
   "outputs": [],
   "source": [
    "member_count = 14\n",
    "member_fee = 40"
   ]
  },
  {
   "cell_type": "code",
   "execution_count": 17,
   "id": "ccbee5a8",
   "metadata": {
    "id": "ccbee5a8",
    "outputId": "f49584e4-5b5e-4e91-82c1-2250aabae45e"
   },
   "outputs": [
    {
     "data": {
      "text/plain": [
       "0"
      ]
     },
     "execution_count": 17,
     "metadata": {},
     "output_type": "execute_result"
    }
   ],
   "source": [
    "x = 2\n",
    "y = -2\n",
    "x+y"
   ]
  },
  {
   "cell_type": "markdown",
   "id": "93b046a0",
   "metadata": {
    "id": "93b046a0"
   },
   "source": [
    "**`float`: Floating point number (decimaltal)**"
   ]
  },
  {
   "cell_type": "markdown",
   "id": "zUsbzUdAc8BJ",
   "metadata": {
    "id": "zUsbzUdAc8BJ"
   },
   "source": [
    "Eksempel: Hvad er arealet af min pizza?"
   ]
  },
  {
   "cell_type": "code",
   "execution_count": 18,
   "id": "791e9165",
   "metadata": {
    "colab": {
     "base_uri": "https://localhost:8080/"
    },
    "executionInfo": {
     "elapsed": 268,
     "status": "ok",
     "timestamp": 1664458482116,
     "user": {
      "displayName": "Rune Højlund",
      "userId": "03700169175362586718"
     },
     "user_tz": -120
    },
    "id": "791e9165",
    "outputId": "3e86a298-4345-4338-f41d-92486c2753f2"
   },
   "outputs": [
    {
     "data": {
      "text/plain": [
       "137.608616"
      ]
     },
     "execution_count": 18,
     "metadata": {},
     "output_type": "execute_result"
    }
   ],
   "source": [
    "pizza_radius = 6.62\n",
    "pizza_area = 3.14*(pizza_radius**2)\n",
    "pizza_area\n"
   ]
  },
  {
   "cell_type": "markdown",
   "id": "2b92d674",
   "metadata": {
    "id": "2b92d674"
   },
   "source": [
    "Eksempel: Hvad bør kontingentet være for at dække årlige bankudgifter på 699 kr.?"
   ]
  },
  {
   "cell_type": "code",
   "execution_count": 19,
   "id": "e2eb0033",
   "metadata": {
    "id": "e2eb0033",
    "outputId": "ed9bd748-5392-436e-abfd-2d3c0512e997"
   },
   "outputs": [
    {
     "data": {
      "text/plain": [
       "49.92857142857143"
      ]
     },
     "execution_count": 19,
     "metadata": {},
     "output_type": "execute_result"
    }
   ],
   "source": [
    "min_fee = 699/member_count\n",
    "min_fee"
   ]
  },
  {
   "cell_type": "markdown",
   "id": "b6096b3f",
   "metadata": {
    "id": "b6096b3f"
   },
   "source": [
    "**`complex`: Complex float (komplekse tal)** "
   ]
  },
  {
   "cell_type": "code",
   "execution_count": 20,
   "id": "ecb241ca",
   "metadata": {
    "id": "ecb241ca",
    "outputId": "2d5a2c18-0824-4e35-fc58-697f54b7a237"
   },
   "outputs": [
    {
     "name": "stdout",
     "output_type": "stream",
     "text": [
      "(2+3j)\n"
     ]
    }
   ],
   "source": [
    "z = 2 + 3j\n",
    "print(z)"
   ]
  },
  {
   "cell_type": "markdown",
   "id": "2e1cbfa3",
   "metadata": {
    "id": "2e1cbfa3"
   },
   "source": [
    "**Tekst**"
   ]
  },
  {
   "cell_type": "markdown",
   "id": "798093a6",
   "metadata": {
    "id": "798093a6"
   },
   "source": [
    "**`string`: String (tekst-streng)**"
   ]
  },
  {
   "cell_type": "code",
   "execution_count": 21,
   "id": "36910083",
   "metadata": {
    "colab": {
     "base_uri": "https://localhost:8080/"
    },
    "executionInfo": {
     "elapsed": 4,
     "status": "ok",
     "timestamp": 1664458521797,
     "user": {
      "displayName": "Rune Højlund",
      "userId": "03700169175362586718"
     },
     "user_tz": -120
    },
    "id": "36910083",
    "outputId": "38d53c0d-40dc-49e8-f496-80231a9cc6fe"
   },
   "outputs": [
    {
     "name": "stdout",
     "output_type": "stream",
     "text": [
      "Hello Rune and welcome to the association!\n"
     ]
    }
   ],
   "source": [
    "name = 'Rune'\n",
    "print('Hello ' + name + ' and welcome to the association!')"
   ]
  },
  {
   "cell_type": "markdown",
   "id": "UhBoqTqxdXqi",
   "metadata": {
    "id": "UhBoqTqxdXqi"
   },
   "source": [
    "For at indsætte tal i en tekst-streng, skal du eksplicit bede Python om at ændre dit tal til tekst med `str()`-kommandoen. Det kaldes mere generelt for type casting, når man konverterer mellem datatyper:"
   ]
  },
  {
   "cell_type": "code",
   "execution_count": 22,
   "id": "dc8319d6",
   "metadata": {
    "id": "dc8319d6",
    "outputId": "ba314ee6-5e82-485e-8171-7df027f4ddb9"
   },
   "outputs": [
    {
     "name": "stdout",
     "output_type": "stream",
     "text": [
      "We need your support of 50 DKK to cover our expenses\n"
     ]
    }
   ],
   "source": [
    "print('We need your support of ' + str(round(min_fee)) + ' DKK to cover our expenses')"
   ]
  },
  {
   "cell_type": "markdown",
   "id": "de4b62b2",
   "metadata": {
    "id": "de4b62b2"
   },
   "source": [
    "## 5. Datatyper: Lister"
   ]
  },
  {
   "cell_type": "markdown",
   "id": "b27d4ee4",
   "metadata": {
    "id": "b27d4ee4"
   },
   "source": [
    "Lister skrives med hårde klammer `[]` og kan både indeholde tekst og tal."
   ]
  },
  {
   "cell_type": "code",
   "execution_count": 23,
   "id": "7bcfe55a",
   "metadata": {
    "id": "7bcfe55a"
   },
   "outputs": [],
   "source": [
    "members = [\"Emma\", \"Laura\", \"Magnus\", \"Rune\"]"
   ]
  },
  {
   "cell_type": "markdown",
   "id": "48f9294f",
   "metadata": {
    "id": "48f9294f"
   },
   "source": [
    "Lister i Python er \"0-indekserede\", så 1. element har indeks 0 (dvs. 0'te plads i listen):"
   ]
  },
  {
   "cell_type": "code",
   "execution_count": 24,
   "id": "6fd95003",
   "metadata": {
    "id": "6fd95003",
    "outputId": "4858b5aa-5b20-4211-808e-597eb849d36b"
   },
   "outputs": [
    {
     "data": {
      "text/plain": [
       "'Emma'"
      ]
     },
     "execution_count": 24,
     "metadata": {},
     "output_type": "execute_result"
    }
   ],
   "source": [
    "members[0]"
   ]
  },
  {
   "cell_type": "code",
   "execution_count": 25,
   "id": "a725cfe6",
   "metadata": {
    "id": "a725cfe6",
    "outputId": "f891d7c2-e05f-44a4-b30f-5cf2dfd404bb"
   },
   "outputs": [
    {
     "data": {
      "text/plain": [
       "'Magnus'"
      ]
     },
     "execution_count": 25,
     "metadata": {},
     "output_type": "execute_result"
    }
   ],
   "source": [
    "members[2]"
   ]
  },
  {
   "cell_type": "markdown",
   "id": "bc83175d",
   "metadata": {
    "id": "bc83175d"
   },
   "source": [
    "Udtræk 2. og 3. element (med indeks i det halvåbne interval $[1,3[$)"
   ]
  },
  {
   "cell_type": "code",
   "execution_count": 26,
   "id": "6002f4ec",
   "metadata": {
    "id": "6002f4ec",
    "outputId": "c3ecde9f-e1df-4070-d443-509466740d14"
   },
   "outputs": [
    {
     "data": {
      "text/plain": [
       "['Laura', 'Magnus']"
      ]
     },
     "execution_count": 26,
     "metadata": {},
     "output_type": "execute_result"
    }
   ],
   "source": [
    "members[1:3]"
   ]
  },
  {
   "cell_type": "markdown",
   "id": "7297a68f",
   "metadata": {
    "id": "7297a68f"
   },
   "source": [
    "Udtræk sidste element i listen:"
   ]
  },
  {
   "cell_type": "code",
   "execution_count": 27,
   "id": "3a5836f6",
   "metadata": {
    "id": "3a5836f6",
    "outputId": "0cec1de0-f08b-4719-cb7e-10771a0a14f5"
   },
   "outputs": [
    {
     "data": {
      "text/plain": [
       "'Rune'"
      ]
     },
     "execution_count": 27,
     "metadata": {},
     "output_type": "execute_result"
    }
   ],
   "source": [
    "members[-1]"
   ]
  },
  {
   "cell_type": "markdown",
   "id": "8357b8c8",
   "metadata": {
    "id": "8357b8c8"
   },
   "source": [
    "Læg lister sammen og tæl antallet af elementer i listen."
   ]
  },
  {
   "cell_type": "code",
   "execution_count": 28,
   "id": "03fa7ae5",
   "metadata": {
    "id": "03fa7ae5",
    "outputId": "40e1a3cd-e5a9-48a4-8b47-b8ca56036116"
   },
   "outputs": [
    {
     "data": {
      "text/plain": [
       "['Emma', 'Laura', 'Magnus', 'Rune', 'Luna', 'Lukas']"
      ]
     },
     "execution_count": 28,
     "metadata": {},
     "output_type": "execute_result"
    }
   ],
   "source": [
    "new_members = [\"Luna\", \"Lukas\"]\n",
    "members + new_members"
   ]
  },
  {
   "cell_type": "code",
   "execution_count": 29,
   "id": "56e22a47",
   "metadata": {
    "id": "56e22a47",
    "outputId": "33a98ef7-ef10-4435-f512-bc2c3bca8481"
   },
   "outputs": [
    {
     "data": {
      "text/plain": [
       "['Emma', 'Laura', 'Magnus', 'Rune']"
      ]
     },
     "execution_count": 29,
     "metadata": {},
     "output_type": "execute_result"
    }
   ],
   "source": [
    "members # the list stays unchanged"
   ]
  },
  {
   "cell_type": "code",
   "execution_count": 30,
   "id": "111ac463",
   "metadata": {
    "id": "111ac463",
    "outputId": "43b8c79e-2315-4c83-de23-fb845e8a847b"
   },
   "outputs": [
    {
     "data": {
      "text/plain": [
       "4"
      ]
     },
     "execution_count": 30,
     "metadata": {},
     "output_type": "execute_result"
    }
   ],
   "source": [
    "len(members)"
   ]
  },
  {
   "cell_type": "code",
   "execution_count": 31,
   "id": "d938b5df",
   "metadata": {
    "id": "d938b5df"
   },
   "outputs": [],
   "source": [
    "member_fees = [0, 12.5, 34, 199.99]"
   ]
  },
  {
   "cell_type": "markdown",
   "id": "4af0b865",
   "metadata": {
    "id": "4af0b865"
   },
   "source": [
    "**OBS:** Ganger du et tal med din liste, bliver listen blot kopieret."
   ]
  },
  {
   "cell_type": "code",
   "execution_count": 32,
   "id": "e5e483e0",
   "metadata": {
    "id": "e5e483e0",
    "outputId": "8eb7515a-8bcc-480d-e6ab-d65fe26439d2",
    "scrolled": false
   },
   "outputs": [
    {
     "data": {
      "text/plain": [
       "[0, 12.5, 34, 199.99, 0, 12.5, 34, 199.99]"
      ]
     },
     "execution_count": 32,
     "metadata": {},
     "output_type": "execute_result"
    }
   ],
   "source": [
    "member_fees*2"
   ]
  },
  {
   "cell_type": "markdown",
   "id": "95c76a46",
   "metadata": {
    "id": "95c76a46"
   },
   "source": [
    "Det intuitive havde nok været, at hvert element i listen blev ganget med tallet. For at få denne funktionalitet, skal man arbejde med NumPy Arrays frem for lister:"
   ]
  },
  {
   "cell_type": "markdown",
   "id": "f93cc3a9",
   "metadata": {
    "id": "f93cc3a9"
   },
   "source": [
    "## 6. Datatyper: NumPy Arrays"
   ]
  },
  {
   "cell_type": "markdown",
   "id": "46f86e09",
   "metadata": {
    "id": "46f86e09"
   },
   "source": [
    "NumPy er et bibliotek som bl.a. muliggør regning med vektorer og matricer, som du måske kender det fra Matlab. Det er essentielt til databehandling i Python."
   ]
  },
  {
   "cell_type": "code",
   "execution_count": 33,
   "id": "843e77f2",
   "metadata": {
    "id": "843e77f2"
   },
   "outputs": [],
   "source": [
    "member_fees = [0, 12.5, 34, 199.99]"
   ]
  },
  {
   "attachments": {},
   "cell_type": "markdown",
   "id": "5ed2c2e8",
   "metadata": {
    "id": "5ed2c2e8"
   },
   "source": [
    "En NumPy Array er en datatype, der opfører sig lidt som en vektor eller matrix. Du laver en ny array med `np.array()`-kommandoen:"
   ]
  },
  {
   "cell_type": "code",
   "execution_count": 34,
   "id": "f9d2952c",
   "metadata": {
    "id": "f9d2952c",
    "outputId": "0869243e-685f-4db1-8c67-59c9d8798d78"
   },
   "outputs": [
    {
     "data": {
      "text/plain": [
       "array([  0.  ,  12.5 ,  34.  , 199.99])"
      ]
     },
     "execution_count": 34,
     "metadata": {},
     "output_type": "execute_result"
    }
   ],
   "source": [
    "import numpy as np\n",
    "\n",
    "x = np.array(member_fees)\n",
    "x"
   ]
  },
  {
   "cell_type": "markdown",
   "id": "caf5985a",
   "metadata": {
    "id": "caf5985a"
   },
   "source": [
    "Hvis vi ganger vores array med 2, fungerer det som at gange en skalar på en vektor:"
   ]
  },
  {
   "cell_type": "code",
   "execution_count": 35,
   "id": "7684bce0",
   "metadata": {
    "id": "7684bce0",
    "outputId": "fe31c8bf-299c-46db-c944-3e97d68de313"
   },
   "outputs": [
    {
     "data": {
      "text/plain": [
       "array([  0.  ,  25.  ,  68.  , 399.98])"
      ]
     },
     "execution_count": 35,
     "metadata": {},
     "output_type": "execute_result"
    }
   ],
   "source": [
    "x*2"
   ]
  },
  {
   "cell_type": "markdown",
   "id": "2d9e2496",
   "metadata": {
    "id": "2d9e2496"
   },
   "source": [
    "NumPy har indbyggede kommandoer til at tilgå matematiske konstanter og elementære funktioner:"
   ]
  },
  {
   "cell_type": "code",
   "execution_count": 36,
   "id": "0e838cd4",
   "metadata": {
    "id": "0e838cd4",
    "outputId": "d25998a9-f77b-456b-c48b-596c0efd470b"
   },
   "outputs": [
    {
     "data": {
      "text/plain": [
       "492.98"
      ]
     },
     "execution_count": 36,
     "metadata": {},
     "output_type": "execute_result"
    }
   ],
   "source": [
    "sum(x*2)"
   ]
  },
  {
   "cell_type": "code",
   "execution_count": 37,
   "id": "3f7a5a2f",
   "metadata": {
    "id": "3f7a5a2f"
   },
   "outputs": [],
   "source": [
    "pizza_radius = 6.62"
   ]
  },
  {
   "cell_type": "code",
   "execution_count": 38,
   "id": "940a54e5",
   "metadata": {
    "id": "940a54e5",
    "outputId": "4c4bd29d-94d6-4df7-a065-3feed0f8d0b9"
   },
   "outputs": [
    {
     "data": {
      "text/plain": [
       "137.67841308798054"
      ]
     },
     "execution_count": 38,
     "metadata": {},
     "output_type": "execute_result"
    }
   ],
   "source": [
    "np.pi*pizza_radius**2"
   ]
  },
  {
   "cell_type": "markdown",
   "id": "aae3e6ff",
   "metadata": {
    "id": "aae3e6ff"
   },
   "source": [
    "Du kan også lave numerisk lineær algebra med NumPy"
   ]
  },
  {
   "cell_type": "code",
   "execution_count": 39,
   "id": "e3ff2a80",
   "metadata": {
    "id": "e3ff2a80",
    "outputId": "323f1a9f-411e-4226-beac-0cb1e5bb9164"
   },
   "outputs": [
    {
     "data": {
      "text/plain": [
       "array([[1, 2],\n",
       "       [3, 4]])"
      ]
     },
     "execution_count": 39,
     "metadata": {},
     "output_type": "execute_result"
    }
   ],
   "source": [
    "y = np.array([[1, 2],\n",
    "              [3, 4]])\n",
    "y"
   ]
  },
  {
   "cell_type": "code",
   "execution_count": 40,
   "id": "939e9e01",
   "metadata": {
    "id": "939e9e01",
    "outputId": "775e05b1-90c4-4822-a087-c3020c9e7e8d"
   },
   "outputs": [
    {
     "data": {
      "text/plain": [
       "array([[0, 1],\n",
       "       [2, 3]])"
      ]
     },
     "execution_count": 40,
     "metadata": {},
     "output_type": "execute_result"
    }
   ],
   "source": [
    "z = np.arange(4).reshape(2,2)\n",
    "z"
   ]
  },
  {
   "cell_type": "code",
   "execution_count": 41,
   "id": "243b0c21",
   "metadata": {
    "id": "243b0c21",
    "outputId": "f8d158dd-4158-45fb-a964-3bf2865b356f"
   },
   "outputs": [
    {
     "data": {
      "text/plain": [
       "array([[ 4,  7],\n",
       "       [ 8, 15]])"
      ]
     },
     "execution_count": 41,
     "metadata": {},
     "output_type": "execute_result"
    }
   ],
   "source": [
    "np.dot(y,z)"
   ]
  },
  {
   "cell_type": "markdown",
   "id": "bf1dca7b",
   "metadata": {
    "id": "bf1dca7b"
   },
   "source": [
    "## 7. Booleans og betinget kode"
   ]
  },
  {
   "cell_type": "markdown",
   "id": "e52b2892",
   "metadata": {
    "id": "e52b2892"
   },
   "source": [
    "En `boolean` er en værdi, som enten er sand eller falsk. Fx er det **sandt** at 3 er mindre end 4:"
   ]
  },
  {
   "cell_type": "code",
   "execution_count": 42,
   "id": "5783cb6f",
   "metadata": {
    "id": "5783cb6f",
    "outputId": "ed51213f-f522-488a-abdc-0d2acd85dd95"
   },
   "outputs": [
    {
     "data": {
      "text/plain": [
       "True"
      ]
     },
     "execution_count": 42,
     "metadata": {},
     "output_type": "execute_result"
    }
   ],
   "source": [
    "3 < 4"
   ]
  },
  {
   "cell_type": "markdown",
   "id": "6f33cba4",
   "metadata": {
    "id": "6f33cba4"
   },
   "source": [
    "`booleans` bruges i betinget kode (`if statements`) til at styre flowet i ens program. Man skal give en betingelse som evaluerer til en sandt/falsk værdi og de kommandoer man ønsker opfyldt. "
   ]
  },
  {
   "cell_type": "markdown",
   "id": "cb1e7eca",
   "metadata": {
    "id": "cb1e7eca"
   },
   "source": [
    "`if`-statements kan fx bruges til at beregne _cases_ i matematik. Fx til at bestemme $y=f(-2)$ for følgende funktion:\n",
    "$$\n",
    "f(x) = \n",
    "\\begin{cases}\n",
    "  x^3 + 2, \\quad x > 0 \\\\\n",
    "  \\frac{1}{x}, \\quad \\text{otherwise}\n",
    "\\end{cases}\n",
    "$$"
   ]
  },
  {
   "cell_type": "code",
   "execution_count": 86,
   "id": "46a1f0ad",
   "metadata": {
    "id": "46a1f0ad",
    "outputId": "acfb472f-7ab8-40cd-a3cb-370be207afd9"
   },
   "outputs": [
    {
     "data": {
      "text/plain": [
       "-0.5"
      ]
     },
     "execution_count": 86,
     "metadata": {},
     "output_type": "execute_result"
    }
   ],
   "source": [
    "x = -2\n",
    "if x > 0: \n",
    "  y = x**3 +2\n",
    "else: \n",
    "  y = 1/x\n",
    "y"
   ]
  },
  {
   "cell_type": "markdown",
   "id": "b0a4ca47",
   "metadata": {
    "id": "b0a4ca47"
   },
   "source": [
    "Det er indrykningen, der styrer hvad der kommer med i en `if`-statement:"
   ]
  },
  {
   "cell_type": "code",
   "execution_count": 44,
   "id": "d32469d5",
   "metadata": {
    "colab": {
     "base_uri": "https://localhost:8080/"
    },
    "executionInfo": {
     "elapsed": 262,
     "status": "ok",
     "timestamp": 1664459396690,
     "user": {
      "displayName": "Rune Højlund",
      "userId": "03700169175362586718"
     },
     "user_tz": -120
    },
    "id": "d32469d5",
    "outputId": "c31ca01f-d73c-49d8-e85b-01a70979a482"
   },
   "outputs": [
    {
     "name": "stdout",
     "output_type": "stream",
     "text": [
      "True\n",
      "Wuhuu! We made it.\n",
      "this line is printed no matter what\n"
     ]
    }
   ],
   "source": [
    "member_fees = [0, 12.5, 34, 199.99]\n",
    "expenses = 200\n",
    "is_expenses_covered = expenses < sum(member_fees)\n",
    "print(is_expenses_covered)\n",
    "if (is_expenses_covered):\n",
    "    print('Wuhuu! We made it.')\n",
    "else:\n",
    "    print('We need more money')\n",
    "print('this line is printed no matter what')"
   ]
  },
  {
   "cell_type": "markdown",
   "id": "5b399db7",
   "metadata": {
    "id": "5b399db7"
   },
   "source": [
    "Vælg et tilfældigt element fra en liste og kør noget kode afhængig af udfaldet:"
   ]
  },
  {
   "cell_type": "code",
   "execution_count": 46,
   "id": "115b512f",
   "metadata": {
    "id": "115b512f",
    "outputId": "448d1f0a-6bb3-42ef-fb2d-494f5a3b8f75"
   },
   "outputs": [
    {
     "name": "stdout",
     "output_type": "stream",
     "text": [
      "who has to pay?\n",
      "Emma\n"
     ]
    }
   ],
   "source": [
    "from random import choice\n",
    "\n",
    "random_member = choice([\"E\", \"L\", \"M\", \"R\"])\n",
    "\n",
    "print(\"who has to pay?\")\n",
    "if (random_member == \"E\"):\n",
    "    print('Emma')\n",
    "elif (random_member == \"L\"):\n",
    "    print(\"Laura\")\n",
    "elif (random_member == \"M\"):\n",
    "    print(\"Magnus\")\n",
    "else:\n",
    "    print(\"Rune\")"
   ]
  },
  {
   "cell_type": "markdown",
   "id": "52307baa",
   "metadata": {
    "id": "52307baa"
   },
   "source": [
    "## 8. Funktioner"
   ]
  },
  {
   "cell_type": "markdown",
   "id": "d94da867",
   "metadata": {
    "id": "d94da867"
   },
   "source": [
    "Funktioner er en måde at genbruge kodeblokke på, og begrebet minder en del om funktioner i matematik (men dog med forskelle). En funktion er en maskine, der\n",
    "1. (valgfrit) tager et input ind (parameter/argument).\n",
    "2. Udfører nogle beregninger og kører nogle kommandoer\n",
    "3. (valgfrit) spytter et resultat ud (det kalder vi at \"returnere\" en variabel).\n",
    "\n",
    "Vi skal lige have lidt mere terminiologi på plads:\n",
    "Når vi bruger en funktion, siger vi at vi \"kalder\" den (eng. \"call a function\"). Vi benævner også ofte en funktion som en \"metode\" (eng. \"method\") eller \"kommando\" (eng. \"command\"). I Python kalder man en funktion ved at skrive dens navn efterfulgt af paranteser, og det har vi faktisk allerede brugt flere gange tidligere i dokumentet. Fx:"
   ]
  },
  {
   "cell_type": "code",
   "execution_count": 47,
   "id": "KbGjWVVGiSsw",
   "metadata": {
    "colab": {
     "base_uri": "https://localhost:8080/"
    },
    "executionInfo": {
     "elapsed": 232,
     "status": "ok",
     "timestamp": 1664459821075,
     "user": {
      "displayName": "Rune Højlund",
      "userId": "03700169175362586718"
     },
     "user_tz": -120
    },
    "id": "KbGjWVVGiSsw",
    "outputId": "3431f9aa-0aad-48ab-eddb-116880e43217"
   },
   "outputs": [
    {
     "name": "stdout",
     "output_type": "stream",
     "text": [
      "Hello world\n"
     ]
    }
   ],
   "source": [
    "print(\"Hello world\")"
   ]
  },
  {
   "cell_type": "code",
   "execution_count": 48,
   "id": "x20zXXtaiUxc",
   "metadata": {
    "colab": {
     "base_uri": "https://localhost:8080/"
    },
    "executionInfo": {
     "elapsed": 407,
     "status": "ok",
     "timestamp": 1664459864200,
     "user": {
      "displayName": "Rune Højlund",
      "userId": "03700169175362586718"
     },
     "user_tz": -120
    },
    "id": "x20zXXtaiUxc",
    "outputId": "2fe23a49-8d2e-4b5b-d22c-4acd88d3c0a4"
   },
   "outputs": [
    {
     "data": {
      "text/plain": [
       "3"
      ]
     },
     "execution_count": 48,
     "metadata": {},
     "output_type": "execute_result"
    }
   ],
   "source": [
    "round(3.14)"
   ]
  },
  {
   "cell_type": "markdown",
   "id": "mMZ3Y7p7g3GV",
   "metadata": {
    "id": "mMZ3Y7p7g3GV"
   },
   "source": [
    "Vi kan selv definere en funktion. Fx en der hedder `add_member`, som tilføjer et navn til listen `members`. Bemærk, at funktionen selv bruger en funktion, nemlig `append`, som kaldes direkte på listen `members`."
   ]
  },
  {
   "cell_type": "code",
   "execution_count": 49,
   "id": "e72a49e3",
   "metadata": {
    "executionInfo": {
     "elapsed": 233,
     "status": "ok",
     "timestamp": 1664459500328,
     "user": {
      "displayName": "Rune Højlund",
      "userId": "03700169175362586718"
     },
     "user_tz": -120
    },
    "id": "e72a49e3"
   },
   "outputs": [],
   "source": [
    "members = [\"Emma\", \"Laura\", \"Magnus\", \"Rune\"]"
   ]
  },
  {
   "cell_type": "code",
   "execution_count": 50,
   "id": "c35223d8",
   "metadata": {
    "colab": {
     "base_uri": "https://localhost:8080/"
    },
    "executionInfo": {
     "elapsed": 4,
     "status": "ok",
     "timestamp": 1664459500565,
     "user": {
      "displayName": "Rune Højlund",
      "userId": "03700169175362586718"
     },
     "user_tz": -120
    },
    "id": "c35223d8",
    "outputId": "810a9f54-f4d4-41c9-dd3d-ea1e11185e77"
   },
   "outputs": [
    {
     "name": "stdout",
     "output_type": "stream",
     "text": [
      "['Emma', 'Laura', 'Magnus', 'Rune', 'Carl']\n"
     ]
    }
   ],
   "source": [
    "def add_member(name):\n",
    "    '''Adds the name to the members list.\n",
    "    '''\n",
    "    members.append(name)\n",
    "\n",
    "add_member(\"Carl\")\n",
    "print(members)"
   ]
  },
  {
   "cell_type": "markdown",
   "id": "m-QlVpl3hFfN",
   "metadata": {
    "id": "m-QlVpl3hFfN"
   },
   "source": [
    "Vi kan fjerne navnet igen ved at \"kalde\" `remove()`-funktionen på listen:"
   ]
  },
  {
   "cell_type": "code",
   "execution_count": 51,
   "id": "3dbcf498",
   "metadata": {
    "colab": {
     "base_uri": "https://localhost:8080/"
    },
    "executionInfo": {
     "elapsed": 372,
     "status": "ok",
     "timestamp": 1664459953431,
     "user": {
      "displayName": "Rune Højlund",
      "userId": "03700169175362586718"
     },
     "user_tz": -120
    },
    "id": "3dbcf498",
    "outputId": "83d445f0-c9bb-4fa8-b0f4-466261c2022b"
   },
   "outputs": [
    {
     "data": {
      "text/plain": [
       "['Emma', 'Laura', 'Magnus', 'Rune']"
      ]
     },
     "execution_count": 51,
     "metadata": {},
     "output_type": "execute_result"
    }
   ],
   "source": [
    "members.remove('Carl')\n",
    "members"
   ]
  },
  {
   "cell_type": "markdown",
   "id": "4KhXZQQZi1Eu",
   "metadata": {
    "id": "4KhXZQQZi1Eu"
   },
   "source": [
    "Vi kan modificere funktionen, så det samme navn ikke kan blive tilføjet 2 gange:"
   ]
  },
  {
   "cell_type": "code",
   "execution_count": 52,
   "id": "d447cf29",
   "metadata": {
    "colab": {
     "base_uri": "https://localhost:8080/"
    },
    "executionInfo": {
     "elapsed": 219,
     "status": "ok",
     "timestamp": 1664459989516,
     "user": {
      "displayName": "Rune Højlund",
      "userId": "03700169175362586718"
     },
     "user_tz": -120
    },
    "id": "d447cf29",
    "outputId": "b2209357-3802-47d9-b645-41fe15ea9cf7"
   },
   "outputs": [
    {
     "name": "stdout",
     "output_type": "stream",
     "text": [
      "['Emma', 'Laura', 'Magnus', 'Rune', 'Carl']\n"
     ]
    }
   ],
   "source": [
    "def add_member(name):\n",
    "    '''Adds the name to the members list.\n",
    "    '''\n",
    "    if name not in members:\n",
    "        members.append(name)\n",
    "\n",
    "add_member(\"Carl\")\n",
    "print(members)"
   ]
  },
  {
   "cell_type": "markdown",
   "id": "cb799a02",
   "metadata": {
    "id": "cb799a02"
   },
   "source": [
    "**Indrykning**"
   ]
  },
  {
   "cell_type": "markdown",
   "id": "77356ffb",
   "metadata": {
    "id": "77356ffb"
   },
   "source": [
    "Ligesom med `if`-statements er det indrykningen, der afgør hvilke linjer, der bliver kørt."
   ]
  },
  {
   "cell_type": "code",
   "execution_count": 53,
   "id": "ad6cb8fd",
   "metadata": {
    "id": "ad6cb8fd",
    "outputId": "aa8e14b2-2cd3-48a3-8d57-a49c0ff1ee7d"
   },
   "outputs": [
    {
     "name": "stdout",
     "output_type": "stream",
     "text": [
      "Line 1\n",
      "Line 2\n"
     ]
    }
   ],
   "source": [
    "def print_lines():\n",
    "    print('Line 1')\n",
    "    print('Line 2')\n",
    "\n",
    "print_lines()"
   ]
  },
  {
   "cell_type": "code",
   "execution_count": 54,
   "id": "6a03582e",
   "metadata": {
    "id": "6a03582e",
    "outputId": "eb2c00b1-6236-4612-84e0-ee5e23332d63"
   },
   "outputs": [
    {
     "name": "stdout",
     "output_type": "stream",
     "text": [
      "Line 2\n",
      "Line 1\n"
     ]
    }
   ],
   "source": [
    "def print_lines():\n",
    "    print('Line 1')\n",
    "print('Line 2')\n",
    "\n",
    "print_lines()"
   ]
  },
  {
   "cell_type": "markdown",
   "id": "af2e113f",
   "metadata": {
    "id": "af2e113f"
   },
   "source": [
    "### Karakterberegner eksempel\n",
    "\n",
    "Forestil dig, at du skal på udveksling og derfor har brug for at omregne dit karaktersnit fra kurser i Danmark til den internationale ects-skala."
   ]
  },
  {
   "cell_type": "markdown",
   "id": "8dc88b85",
   "metadata": {
    "id": "8dc88b85"
   },
   "source": [
    "Vi kan lave vores egen funktion til at beregne gennemsnit:"
   ]
  },
  {
   "cell_type": "code",
   "execution_count": 55,
   "id": "0317f8b2",
   "metadata": {
    "id": "0317f8b2",
    "outputId": "4e9976e7-1e5f-4f94-cbf2-b49d61317ff0"
   },
   "outputs": [
    {
     "name": "stdout",
     "output_type": "stream",
     "text": [
      "6.333333333333333\n"
     ]
    }
   ],
   "source": [
    "grades = [10, 2, 7]\n",
    "\n",
    "def grades_mean(grades):\n",
    "    '''Return mean of grades list.'''\n",
    "    return sum(grades)/len(grades)\n",
    "\n",
    "gpa = grades_mean(grades)\n",
    "print(gpa)"
   ]
  },
  {
   "cell_type": "markdown",
   "id": "2cfdea30",
   "metadata": {
    "id": "2cfdea30"
   },
   "source": [
    "Eller vi kan bruge NumPy's indbyggede funktion til at beregne gennemsnit:"
   ]
  },
  {
   "cell_type": "code",
   "execution_count": 56,
   "id": "155168d6",
   "metadata": {
    "id": "155168d6",
    "outputId": "09d95475-92f8-4663-cd26-451e1a0a78c9"
   },
   "outputs": [
    {
     "name": "stdout",
     "output_type": "stream",
     "text": [
      "6.333333333333333\n"
     ]
    }
   ],
   "source": [
    "import numpy as np\n",
    "\n",
    "grades = [10, 2, 7]\n",
    "\n",
    "gpa = np.mean(grades)\n",
    "print(gpa)"
   ]
  },
  {
   "cell_type": "markdown",
   "id": "48130109",
   "metadata": {
    "id": "48130109"
   },
   "source": [
    "Værtsuniversitetet ønsker dine karakterer på ECTS-skalaen, så du laver din egen funktion til at konvertere karakterer fra den danske til internationale skala:"
   ]
  },
  {
   "cell_type": "code",
   "execution_count": 59,
   "id": "88dac04a",
   "metadata": {
    "id": "88dac04a",
    "outputId": "e210d8e3-84b3-4842-8b8d-8dcf9d4eaabc"
   },
   "outputs": [
    {
     "name": "stdout",
     "output_type": "stream",
     "text": [
      "C\n"
     ]
    }
   ],
   "source": [
    "def convert_grade(dk_grade):\n",
    "    dk_scale = [-3, 0, 2, 4, 7, 10, 12]\n",
    "    ects_scale = [\"F\", \"Fx\", \"E\", \"D\", \"C\", \"B\", \"A\"]\n",
    "    index = dk_scale.index(dk_grade)\n",
    "    return ects_scale[index]\n",
    "\n",
    "print(convert_grade(7))"
   ]
  },
  {
   "cell_type": "markdown",
   "id": "14659bfb",
   "metadata": {
    "id": "14659bfb"
   },
   "source": [
    "## 9. Løkker og list comprehensions"
   ]
  },
  {
   "cell_type": "markdown",
   "id": "6f892cdc",
   "metadata": {
    "id": "6f892cdc"
   },
   "source": [
    "### Løkker"
   ]
  },
  {
   "cell_type": "markdown",
   "id": "00dfad3f",
   "metadata": {
    "id": "00dfad3f"
   },
   "source": [
    "Ønsker man at gentage en linje kode flere gange skal man bruge et `for loop` (en løkke på dansk). Fx til at gange alle elementer i en liste"
   ]
  },
  {
   "cell_type": "code",
   "execution_count": 60,
   "id": "718bb841",
   "metadata": {
    "id": "718bb841",
    "outputId": "951ebdf4-fa5b-4865-afbb-46e0892fd218"
   },
   "outputs": [
    {
     "name": "stdout",
     "output_type": "stream",
     "text": [
      "0\n",
      "1\n",
      "2\n"
     ]
    }
   ],
   "source": [
    "for i in [0, 1, 2]:\n",
    "    print(i)"
   ]
  },
  {
   "cell_type": "code",
   "execution_count": 61,
   "id": "2c5cc18f",
   "metadata": {
    "id": "2c5cc18f",
    "outputId": "b894b1b1-de9c-49a0-ff1c-d2e919ff0213",
    "scrolled": true
   },
   "outputs": [
    {
     "name": "stdout",
     "output_type": "stream",
     "text": [
      "0\n",
      "2\n",
      "4\n"
     ]
    }
   ],
   "source": [
    "for i in [0, 1, 2]:\n",
    "    print(i*2)"
   ]
  },
  {
   "cell_type": "markdown",
   "id": "c0efd3c4",
   "metadata": {
    "id": "c0efd3c4"
   },
   "source": [
    "Konvertér samtlige karakterer på én gang:"
   ]
  },
  {
   "cell_type": "code",
   "execution_count": 62,
   "id": "68cc6ecb",
   "metadata": {
    "id": "68cc6ecb",
    "outputId": "90491dad-b3cc-46c5-82cf-db65e38d9e8e"
   },
   "outputs": [
    {
     "name": "stdout",
     "output_type": "stream",
     "text": [
      "B\n",
      "E\n",
      "C\n"
     ]
    }
   ],
   "source": [
    "for grade in grades:\n",
    "    print(convert_grade(grade))"
   ]
  },
  {
   "cell_type": "markdown",
   "id": "ade6523c",
   "metadata": {
    "id": "ade6523c"
   },
   "source": [
    "Omregn grader Celcius til Kelvin for 3 temperaturmålinger:"
   ]
  },
  {
   "cell_type": "code",
   "execution_count": 63,
   "id": "32417362",
   "metadata": {
    "id": "32417362",
    "outputId": "f841502a-1779-4e10-ec5d-90dc0a524e55"
   },
   "outputs": [
    {
     "name": "stdout",
     "output_type": "stream",
     "text": [
      "298.65 K\n",
      "295.34999999999997 K\n",
      "311.15 K\n"
     ]
    }
   ],
   "source": [
    "temperatures = [25.5, 22.2, 38]\n",
    "\n",
    "for T in temperatures:\n",
    "    print(str(T + 273.15) + ' K')"
   ]
  },
  {
   "cell_type": "markdown",
   "id": "2d9e9210",
   "metadata": {
    "id": "2d9e9210"
   },
   "source": [
    "### List comprehensions"
   ]
  },
  {
   "cell_type": "markdown",
   "id": "3cf0d8db",
   "metadata": {
    "id": "3cf0d8db"
   },
   "source": [
    "List comprehensions er et shorthand alternativ til at lave for loops:"
   ]
  },
  {
   "cell_type": "code",
   "execution_count": 64,
   "id": "dcc4fa7a",
   "metadata": {
    "id": "dcc4fa7a",
    "outputId": "29a20abb-6116-4946-8630-fe7aac6a62fe"
   },
   "outputs": [
    {
     "data": {
      "text/plain": [
       "[298.65, 295.34999999999997, 311.15]"
      ]
     },
     "execution_count": 64,
     "metadata": {},
     "output_type": "execute_result"
    }
   ],
   "source": [
    "[T + 273.15 for T in temperatures]"
   ]
  },
  {
   "cell_type": "markdown",
   "id": "8b3678fa",
   "metadata": {
    "id": "8b3678fa"
   },
   "source": [
    "# Flere Eksempler\n",
    "Her er flere eksempler på brug af Python. Jeg har ladet beskrivelserne være på engelsk."
   ]
  },
  {
   "cell_type": "markdown",
   "id": "e4b64c89",
   "metadata": {
    "id": "e4b64c89"
   },
   "source": [
    "## Example 1 - Graph of mathematical function"
   ]
  },
  {
   "cell_type": "code",
   "execution_count": 65,
   "id": "9d575156",
   "metadata": {
    "id": "9d575156",
    "outputId": "8adf1abf-87e2-40e9-a5bf-fcbb00c03b3e"
   },
   "outputs": [
    {
     "data": {
      "image/png": "[encoded data removed]",
      "text/plain": [
       "<Figure size 640x480 with 1 Axes>"
      ]
     },
     "metadata": {},
     "output_type": "display_data"
    }
   ],
   "source": [
    "import numpy as np\n",
    "import matplotlib.pyplot as plt\n",
    "\n",
    "x = np.linspace(0,100)\n",
    "y = x**2\n",
    "plt.plot(x,y)\n",
    "plt.show()"
   ]
  },
  {
   "cell_type": "code",
   "execution_count": 66,
   "id": "1abf8165",
   "metadata": {
    "id": "1abf8165",
    "outputId": "6e76041b-13da-4b2e-80b7-c8295b35944c",
    "scrolled": true
   },
   "outputs": [
    {
     "data": {
      "image/png": "[encoded data removed]",
      "text/plain": [
       "<Figure size 640x480 with 1 Axes>"
      ]
     },
     "metadata": {},
     "output_type": "display_data"
    }
   ],
   "source": [
    "import numpy as np\n",
    "import matplotlib.pyplot as plt\n",
    "\n",
    "x = np.arange(-np.pi,np.pi,0.1)\n",
    "y = np.sin(x)\n",
    "\n",
    "plt.plot(x,y)\n",
    "plt.show()"
   ]
  },
  {
   "cell_type": "markdown",
   "id": "7386ebb3",
   "metadata": {
    "id": "7386ebb3"
   },
   "source": [
    "### More functions in same plot"
   ]
  },
  {
   "cell_type": "code",
   "execution_count": 67,
   "id": "5e9765ae",
   "metadata": {
    "id": "5e9765ae",
    "outputId": "eae22e0e-5bdd-448e-c9c2-dc26a2b2eb76"
   },
   "outputs": [
    {
     "data": {
      "image/png": "[encoded data removed]",
      "text/plain": [
       "<Figure size 640x480 with 1 Axes>"
      ]
     },
     "metadata": {},
     "output_type": "display_data"
    }
   ],
   "source": [
    "z = np.cos(x)\n",
    "\n",
    "plt.plot(x,y)\n",
    "plt.plot(x,z)\n",
    "plt.show()"
   ]
  },
  {
   "cell_type": "markdown",
   "id": "29ed3e2b",
   "metadata": {
    "id": "29ed3e2b"
   },
   "source": [
    "### Figure with subplots"
   ]
  },
  {
   "cell_type": "code",
   "execution_count": 68,
   "id": "b6564a8f",
   "metadata": {
    "id": "b6564a8f",
    "outputId": "76ea8b6b-bde8-4439-d88b-cf15e8e1f34f"
   },
   "outputs": [
    {
     "data": {
      "image/png": "[encoded data removed]",
      "text/plain": [
       "<Figure size 1000x500 with 2 Axes>"
      ]
     },
     "metadata": {},
     "output_type": "display_data"
    }
   ],
   "source": [
    "fig, axs = plt.subplots(1, 2, figsize=(10,5))\n",
    "fig.suptitle('Trigonometric functions')\n",
    "axs[0].plot(x,y,'g',label='sin(x)')\n",
    "axs[0].legend()\n",
    "axs[0].set_title('First plot')\n",
    "\n",
    "axs[1].plot(x,z,'r',label='cos(x)')\n",
    "axs[1].legend()\n",
    "axs[1].set_title('Second plot')\n",
    "\n",
    "plt.show()"
   ]
  },
  {
   "cell_type": "markdown",
   "id": "f306c03d",
   "metadata": {
    "id": "f306c03d"
   },
   "source": [
    "**Export figure/plot to pdf:**"
   ]
  },
  {
   "cell_type": "code",
   "execution_count": 69,
   "id": "dbde6052",
   "metadata": {
    "id": "dbde6052"
   },
   "outputs": [],
   "source": [
    "plt.plot(x,y)\n",
    "plt.savefig('./sinx.pdf', bbox_inches='tight') # Save figure in current folder\n",
    "plt.close() # Close current figure to hide it from the output."
   ]
  },
  {
   "cell_type": "markdown",
   "id": "49db0972",
   "metadata": {
    "id": "49db0972"
   },
   "source": [
    "## Example 2 - Read data from csv"
   ]
  },
  {
   "cell_type": "code",
   "execution_count": 70,
   "id": "73c955ce",
   "metadata": {
    "id": "73c955ce",
    "outputId": "8bff9269-9935-4f71-d8c4-233d5e4f6f1d"
   },
   "outputs": [
    {
     "data": {
      "text/plain": [
       "(array([ 1,  2,  3,  4,  5,  6,  7,  8,  9, 10]),\n",
       " array([  5.44,   6.13,  13.11,  22.16,  32.33,  61.39,  98.27, 164.02,\n",
       "        270.38, 426.18]))"
      ]
     },
     "execution_count": 70,
     "metadata": {},
     "output_type": "execute_result"
    }
   ],
   "source": [
    "import numpy as np\n",
    "import pandas as pd\n",
    "data = pd.read_csv('data.csv')\n",
    "x = np.array(data['x'])\n",
    "y = np.array(data['y'])\n",
    "x,y"
   ]
  },
  {
   "cell_type": "code",
   "execution_count": 71,
   "id": "456e225e",
   "metadata": {
    "id": "456e225e",
    "outputId": "5a12a2d4-4970-43ba-b183-928ff656bd77"
   },
   "outputs": [
    {
     "data": {
      "text/html": [
       "<div>\n",
       "<style scoped>\n",
       "    .dataframe tbody tr th:only-of-type {\n",
       "        vertical-align: middle;\n",
       "    }\n",
       "\n",
       "    .dataframe tbody tr th {\n",
       "        vertical-align: top;\n",
       "    }\n",
       "\n",
       "    .dataframe thead th {\n",
       "        text-align: right;\n",
       "    }\n",
       "</style>\n",
       "<table border=\"1\" class=\"dataframe\">\n",
       "  <thead>\n",
       "    <tr style=\"text-align: right;\">\n",
       "      <th></th>\n",
       "      <th>x</th>\n",
       "      <th>y</th>\n",
       "    </tr>\n",
       "  </thead>\n",
       "  <tbody>\n",
       "    <tr>\n",
       "      <th>0</th>\n",
       "      <td>1</td>\n",
       "      <td>5.44</td>\n",
       "    </tr>\n",
       "    <tr>\n",
       "      <th>1</th>\n",
       "      <td>2</td>\n",
       "      <td>6.13</td>\n",
       "    </tr>\n",
       "    <tr>\n",
       "      <th>2</th>\n",
       "      <td>3</td>\n",
       "      <td>13.11</td>\n",
       "    </tr>\n",
       "    <tr>\n",
       "      <th>3</th>\n",
       "      <td>4</td>\n",
       "      <td>22.16</td>\n",
       "    </tr>\n",
       "    <tr>\n",
       "      <th>4</th>\n",
       "      <td>5</td>\n",
       "      <td>32.33</td>\n",
       "    </tr>\n",
       "    <tr>\n",
       "      <th>5</th>\n",
       "      <td>6</td>\n",
       "      <td>61.39</td>\n",
       "    </tr>\n",
       "    <tr>\n",
       "      <th>6</th>\n",
       "      <td>7</td>\n",
       "      <td>98.27</td>\n",
       "    </tr>\n",
       "    <tr>\n",
       "      <th>7</th>\n",
       "      <td>8</td>\n",
       "      <td>164.02</td>\n",
       "    </tr>\n",
       "    <tr>\n",
       "      <th>8</th>\n",
       "      <td>9</td>\n",
       "      <td>270.38</td>\n",
       "    </tr>\n",
       "    <tr>\n",
       "      <th>9</th>\n",
       "      <td>10</td>\n",
       "      <td>426.18</td>\n",
       "    </tr>\n",
       "  </tbody>\n",
       "</table>\n",
       "</div>"
      ],
      "text/plain": [
       "    x       y\n",
       "0   1    5.44\n",
       "1   2    6.13\n",
       "2   3   13.11\n",
       "3   4   22.16\n",
       "4   5   32.33\n",
       "5   6   61.39\n",
       "6   7   98.27\n",
       "7   8  164.02\n",
       "8   9  270.38\n",
       "9  10  426.18"
      ]
     },
     "execution_count": 71,
     "metadata": {},
     "output_type": "execute_result"
    }
   ],
   "source": [
    "data"
   ]
  },
  {
   "cell_type": "code",
   "execution_count": 72,
   "id": "f5ea214b",
   "metadata": {
    "id": "f5ea214b",
    "outputId": "858b393d-78aa-44c3-e97a-11ce6c7bd6c6"
   },
   "outputs": [
    {
     "data": {
      "image/png": "[encoded data removed]",
      "text/plain": [
       "<Figure size 640x480 with 1 Axes>"
      ]
     },
     "metadata": {},
     "output_type": "display_data"
    }
   ],
   "source": [
    "plt.plot(x,y,'o')\n",
    "plt.show()"
   ]
  },
  {
   "cell_type": "markdown",
   "id": "dfea25f4",
   "metadata": {
    "id": "dfea25f4"
   },
   "source": [
    "## Example 3 - Regression on data"
   ]
  },
  {
   "cell_type": "code",
   "execution_count": 73,
   "id": "1040c16e",
   "metadata": {
    "id": "1040c16e"
   },
   "outputs": [],
   "source": [
    "import sklearn.linear_model as lm\n",
    "\n",
    "def linear_regression(x, y):\n",
    "    X = np.array(x).reshape(-1,1)\n",
    "    y = np.array(y)\n",
    "\n",
    "    # Fit ordinary least squares regression model\n",
    "    model = lm.LinearRegression(fit_intercept=True)\n",
    "    model = model.fit(X,y)\n",
    "    \n",
    "    score = model.score(X, y)\n",
    "    a = model.coef_\n",
    "    b = model.intercept_\n",
    "    return model, score, a, b"
   ]
  },
  {
   "cell_type": "code",
   "execution_count": 75,
   "id": "fd555f39",
   "metadata": {
    "id": "fd555f39"
   },
   "outputs": [],
   "source": [
    "X = np.arange(min(x)-0.01,max(x)+0.01,0.01).reshape(-1,1)"
   ]
  },
  {
   "cell_type": "code",
   "execution_count": 76,
   "id": "0077c2a2",
   "metadata": {
    "id": "0077c2a2"
   },
   "outputs": [],
   "source": [
    "model, score, a, b = linear_regression(x, y)\n",
    "Y_est = model.predict(X)"
   ]
  },
  {
   "cell_type": "markdown",
   "id": "b3e01365",
   "metadata": {
    "id": "b3e01365"
   },
   "source": [
    "### Linear regression"
   ]
  },
  {
   "cell_type": "code",
   "execution_count": 77,
   "id": "a833c077",
   "metadata": {
    "id": "a833c077",
    "outputId": "e98e1d19-28ba-48c1-89d6-98ca2a510f09"
   },
   "outputs": [
    {
     "data": {
      "image/png": "[encoded data removed]",
      "text/plain": [
       "<Figure size 640x480 with 1 Axes>"
      ]
     },
     "metadata": {},
     "output_type": "display_data"
    }
   ],
   "source": [
    "plt.plot(x,y,'o')\n",
    "plt.plot(X,Y_est,'-r')\n",
    "# plt.plot(X,a*X+b,'-g') # Alternatively\n",
    "plt.show()"
   ]
  },
  {
   "cell_type": "markdown",
   "id": "d49cfe88",
   "metadata": {
    "id": "d49cfe88"
   },
   "source": [
    "### Exponential regression"
   ]
  },
  {
   "cell_type": "code",
   "execution_count": 78,
   "id": "c8bb4140",
   "metadata": {
    "id": "c8bb4140",
    "outputId": "bdcd5f72-1f6e-4f13-a883-ff6c2638ae74",
    "scrolled": false
   },
   "outputs": [
    {
     "name": "stdout",
     "output_type": "stream",
     "text": [
      "0.995677236894319 [0.21977613] 0.4465133145446294\n"
     ]
    },
    {
     "data": {
      "image/png": "[encoded data removed]",
      "text/plain": [
       "<Figure size 640x480 with 1 Axes>"
      ]
     },
     "metadata": {},
     "output_type": "display_data"
    }
   ],
   "source": [
    "exp_model, score, a, b = linear_regression(x, np.log10(y))\n",
    "Z_est = exp_model.predict(X)\n",
    "print(score, a, b)\n",
    "plt.plot(x,y,'o')\n",
    "plt.plot(X,10**Z_est,'-g')\n",
    "# plt.plot(X,(10**b)*(10**a)**X,'-g') # Alternatively\n",
    "plt.show()"
   ]
  },
  {
   "cell_type": "markdown",
   "id": "118907ea",
   "metadata": {
    "id": "118907ea"
   },
   "source": [
    "### Power Regression"
   ]
  },
  {
   "cell_type": "code",
   "execution_count": 79,
   "id": "b7beff07",
   "metadata": {
    "id": "b7beff07",
    "outputId": "31536c5d-4a7a-4277-c19e-d787667e909d"
   },
   "outputs": [
    {
     "name": "stdout",
     "output_type": "stream",
     "text": [
      "0.890572784476072 [1.97678413] 0.3585585117920571\n"
     ]
    },
    {
     "data": {
      "image/png": "[encoded data removed]",
      "text/plain": [
       "<Figure size 640x480 with 1 Axes>"
      ]
     },
     "metadata": {},
     "output_type": "display_data"
    }
   ],
   "source": [
    "power_model, score, a, b = linear_regression(np.log10(x), np.log10(y))\n",
    "W_est = power_model.predict(np.log10(X))\n",
    "print(score, a, b)\n",
    "plt.plot(x,y,'o')\n",
    "plt.plot(X,10**W_est,'-b')\n",
    "# plt.plot(X,(10**b)*(X**a),'-g') # Alternatively\n",
    "plt.xlim(0,11)\n",
    "plt.show()"
   ]
  },
  {
   "cell_type": "markdown",
   "id": "f8829751",
   "metadata": {
    "id": "f8829751"
   },
   "source": [
    "## Example 4 - Working with files"
   ]
  },
  {
   "cell_type": "code",
   "execution_count": 80,
   "id": "ad2aa82a",
   "metadata": {
    "id": "ad2aa82a",
    "outputId": "753d00c8-f028-4216-bcd6-2d4071f0cec4"
   },
   "outputs": [
    {
     "name": "stdout",
     "output_type": "stream",
     "text": [
      "[['.ipynb_checkpoints', '.git'], [], ['objects', 'logs', 'refs'], ['92', '50', '9e', '35', '3d', '60', '33', 'a5', 'e2', 'c9', '20', 'pack', '00', 'info', 'd3', 'b0', '41', '76', '40', '7f', '7a'], [], [], [], [], [], [], [], [], [], [], [], [], [], [], [], [], [], [], [], [], [], ['refs'], ['heads', 'remotes'], [], ['origin'], [], ['heads', 'tags', 'remotes'], [], [], ['origin'], []]\n"
     ]
    }
   ],
   "source": [
    "import os\n",
    "print([dirs for root, dirs, files in os.walk(\"./\")])"
   ]
  },
  {
   "cell_type": "code",
   "execution_count": 81,
   "id": "d1cbfc92",
   "metadata": {
    "id": "d1cbfc92",
    "outputId": "ccab543f-4f28-4433-e517-8d64d57edc04"
   },
   "outputs": [
    {
     "name": "stdout",
     "output_type": "stream",
     "text": [
      "[['03-Pandas_Cheat_Sheet.pdf', '.DS_Store', '01-Arbejdsdokument-Python.ipynb', 'hubble.jpg', 'guide.pdf', 'data.csv', '02-Numpy_Python_Cheat_Sheet.pdf', '.gitignore', 'guide.md', '00-Handout.pdf', '00-Handout.ipynb'], ['00-Handout-checkpoint.ipynb', '00-Python for begyndere-2022-09-29-checkpoint.ipynb'], ['ORIG_HEAD', 'config', 'HEAD', 'index', 'COMMIT_EDITMSG', 'FETCH_HEAD', 'sourcetreeconfig'], [], ['6085d201ae300a7548e65393a7c878a4f782e3'], ['9754b49e2186dfe3c7e80a7ceedb8c2edc824d'], ['a336620f12f46ea680c23b706e3003bd499783'], ['82e0c0dabf9af69855863c0d13b96fd62f7653'], ['9ab6f07f0973efd9cfe5c16849edad590b5e7f'], ['bc64d957e80baae7774797d190c19d8059c435'], ['d786ea7100870b17e8825edae79936fe422666'], ['e29aaf8f0121681259c3d4ca1d148a95b5ef37'], ['17a479eebb8aa9745529ec819f62a50a90bd54', '55fce3e238b490db9cf0c9dd9e3e5558e1022c'], ['0eadc257dae32180f07d0927d1c31066fb8a8a'], ['21d0f5e007a3fd244154a203200e6717f607cc'], [], ['fa5c4a29d45acff56cf8da102573c2faa04ad0'], [], ['f6948973b7a47aa053acbac4563733c8ca72b5'], ['b3e8ce485097549dadeee4422079728709255c'], ['3d6508adc5ec9a26b7a94b6a931150ca671149'], ['83c53a49b9409993c60a37ad8cf40c27d83a49'], ['d67a3ca3548fe0095872b87aa04f026d2bbe87'], ['f3e17ff9d1376f6b33ca558ea519c6ff989ef5'], ['c7a2b58e1ca6d23b6467e16b3d215ddcf8b7a8'], ['HEAD'], [], ['main'], [], ['main'], [], ['main'], [], [], ['main']]\n"
     ]
    }
   ],
   "source": [
    "import os\n",
    "\n",
    "files = [files for root, dirs, files in os.walk(\"./\")]\n",
    "\n",
    "print(files)"
   ]
  },
  {
   "cell_type": "code",
   "execution_count": 82,
   "id": "02592abd",
   "metadata": {
    "id": "02592abd",
    "outputId": "67815f44-b0dc-42a0-df3d-a5aa2ae89995"
   },
   "outputs": [
    {
     "name": "stdout",
     "output_type": "stream",
     "text": [
      "['1', '05.4']\n",
      "['2', '06.1']\n",
      "['3', '13.1']\n",
      "['4', '22.1']\n",
      "['5', '32.3']\n",
      "['6', '61.3']\n",
      "['7', '98.2']\n",
      "['8', '164.0']\n",
      "['9', '270.3']\n",
      "['10', '426.']\n"
     ]
    }
   ],
   "source": [
    "f = open('./data.csv')\n",
    "lines = f.readlines()\n",
    "for line in lines[1:]:\n",
    "    print(line[:-2].split(','))"
   ]
  },
  {
   "cell_type": "markdown",
   "id": "c0818410",
   "metadata": {
    "id": "c0818410"
   },
   "source": [
    "## Example 5 - Interfaces"
   ]
  },
  {
   "cell_type": "markdown",
   "id": "5add1022",
   "metadata": {
    "id": "5add1022"
   },
   "source": [
    "Simple command line interfaces er nemme at lave i Python:"
   ]
  },
  {
   "cell_type": "code",
   "execution_count": 83,
   "id": "23bc726d",
   "metadata": {
    "id": "23bc726d",
    "outputId": "93815b7d-0fd7-4634-f871-79f333655b25"
   },
   "outputs": [
    {
     "name": "stdout",
     "output_type": "stream",
     "text": [
      "Received input is:  y\n",
      "You get an ice cream!\n"
     ]
    }
   ],
   "source": [
    "str = input(\"Would you like some ice cream? (y/n): \")\n",
    "print(\"Received input is: \", str)\n",
    "7\n",
    "if (str == 'y'):\n",
    "    print(\"You get an ice cream!\")\n",
    "elif (str == 'n'):\n",
    "    print(\"No ice cream sorry.\")\n",
    "else:\n",
    "    print(\"Please choose either y or n\")"
   ]
  },
  {
   "cell_type": "markdown",
   "id": "16ae841d",
   "metadata": {
    "id": "16ae841d"
   },
   "source": [
    "### GUIs and graphical web applications\n",
    "Python is in my personal opinion not really suited for building Graphical User Interfaces (GUIs). If you wish to build a profesional GUI I would recommend a web solution - for bigger frontends (interfaces, which the user interact with directly) you can for instance use React with javascript and then Python with Django for building a server-backend (functionality, which the user doesn't interact with directly). However this is a professional solution which require some level of software engineering skills. As an alternative there does exist some Python packages, which you may use, if you insist on building a GUI with Python:\n",
    "1. tkinter (part of Python standard library): https://docs.python.org/3/library/tkinter.html\n",
    "2. PyQt (installed with Anaconda): https://wiki.python.org/moin/PyQt. \n",
    "\n",
    "Off course, these packages also require coding skills beyond beginner level to use."
   ]
  },
  {
   "cell_type": "markdown",
   "id": "c16fa53d",
   "metadata": {
    "id": "c16fa53d"
   },
   "source": [
    "## Example 6 - Load image data"
   ]
  },
  {
   "cell_type": "code",
   "execution_count": 84,
   "id": "5f247cff",
   "metadata": {
    "id": "5f247cff",
    "outputId": "b85e99ac-f6b2-44dc-d4c2-c2d0bf7c779c"
   },
   "outputs": [
    {
     "name": "stdout",
     "output_type": "stream",
     "text": [
      "(1200, 1200, 3)\n"
     ]
    }
   ],
   "source": [
    "import numpy as np\n",
    "from PIL import Image\n",
    "\n",
    "img = Image.open('hubble.jpg')\n",
    "img_array = np.array(img)\n",
    "print(img_array.shape) \n",
    "# img.show()"
   ]
  },
  {
   "cell_type": "markdown",
   "id": "a1f18a16",
   "metadata": {
    "id": "a1f18a16"
   },
   "source": [
    "Count white pixels fraction"
   ]
  },
  {
   "cell_type": "code",
   "execution_count": 85,
   "id": "a30a9457",
   "metadata": {
    "id": "a30a9457",
    "outputId": "25989aea-472d-4cfc-b621-647d67765aa2"
   },
   "outputs": [
    {
     "data": {
      "text/plain": [
       "0.004540046296296296"
      ]
     },
     "execution_count": 85,
     "metadata": {},
     "output_type": "execute_result"
    }
   ],
   "source": [
    "# Count pixel values.\n",
    "img_array[img_array > 254].size / img_array.size"
   ]
  },
  {
   "cell_type": "markdown",
   "id": "5dcfcf13",
   "metadata": {
    "id": "5dcfcf13"
   },
   "source": [
    "## Example 7 - Managing dependencies with Conda Environments"
   ]
  },
  {
   "cell_type": "markdown",
   "id": "ee1b04ee",
   "metadata": {
    "id": "ee1b04ee"
   },
   "source": [
    "The following is slightly more advanced than what is needed for the first introduction, but I've included it, since it might come in handy. When you are many people working on the same project, you need to ensure, that all have the same packages and versions installed. You can manage this with conda environments."
   ]
  },
  {
   "cell_type": "markdown",
   "id": "5ecb1f10",
   "metadata": {
    "id": "5ecb1f10"
   },
   "source": [
    "1. Open up a terminal and navigate to the project directory (`cd path/to/project`). Create environment (only first time) with specified Python version by running the following:\n",
    "```\n",
    "conda create -n myProject python=3.7.6\n",
    "```\n",
    "2. Activate environment:\n",
    "```\n",
    "conda activate myProject\n",
    "```\n",
    "3. Make text-file `requirements.txt` listing all requirements. The contents of the file could e.g. be:\n",
    "```\n",
    "numpy\n",
    "matplotlib\n",
    "pandas\n",
    "```\n",
    "3. Install all requirements with pip (you may need to write pip instead of pip3 depending on your Python-version)\n",
    "```\n",
    "pip3 install -r requirements.txt\n",
    "```"
   ]
  },
  {
   "cell_type": "markdown",
   "id": "41f3600f",
   "metadata": {},
   "source": []
  }
 ],
 "metadata": {
  "colab": {
   "collapsed_sections": [
    "8xO0PpNMZltu",
    "R_UaQhuxZJ9n",
    "66d9a012",
    "9bd4b220",
    "af2e113f",
    "6f892cdc",
    "2d9e9210",
    "e4b64c89",
    "29ed3e2b",
    "49db0972",
    "dfea25f4",
    "b3e01365",
    "d49cfe88",
    "118907ea",
    "f8829751",
    "c0818410",
    "16ae841d",
    "c16fa53d",
    "5dcfcf13"
   ],
   "provenance": []
  },
  "kernelspec": {
   "display_name": "Python 3 (ipykernel)",
   "language": "python",
   "name": "python3"
  },
  "language_info": {
   "codemirror_mode": {
    "name": "ipython",
    "version": 3
   },
   "file_extension": ".py",
   "mimetype": "text/x-python",
   "name": "python",
   "nbconvert_exporter": "python",
   "pygments_lexer": "ipython3",
   "version": "3.11.4"
  }
 },
 "nbformat": 4,
 "nbformat_minor": 5
}
